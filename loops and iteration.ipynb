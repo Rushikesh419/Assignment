{
  "nbformat": 4,
  "nbformat_minor": 0,
  "metadata": {
    "colab": {
      "provenance": [],
      "authorship_tag": "ABX9TyO4K1qejVI3dZoXgavzhSo0",
      "include_colab_link": true
    },
    "kernelspec": {
      "name": "python3",
      "display_name": "Python 3"
    },
    "language_info": {
      "name": "python"
    }
  },
  "cells": [
    {
      "cell_type": "markdown",
      "metadata": {
        "id": "view-in-github",
        "colab_type": "text"
      },
      "source": [
        "<a href=\"https://colab.research.google.com/github/Rushikesh419/Assignment/blob/main/loops%20and%20iteration.ipynb\" target=\"_parent\"><img src=\"https://colab.research.google.com/assets/colab-badge.svg\" alt=\"Open In Colab\"/></a>"
      ]
    },
    {
      "cell_type": "markdown",
      "source": [
        "The SETI Institute is a not-for-profit research organization incorporated in 1984 whose mission is to explore, understand, and explain the origin and nature of life in the universe, and to apply the knowledge gained to inspire and guide present and future generations. It aims for discovery and for sharing knowledge as scientific ambassadors to the public, the press, and the government. SETI stands for the \"Search for Extraterrestrial Intelligence\".\n",
        "SETI received some signals from a far away galaxy on June 14, 2012. These signals could have been from a possible alien civilization (similar to what you would have seen in the movie Arrival).\n",
        "The signals indicated the existence of a secret language for sending messages across. Following are the observations made by the SETI team who discovered these signals :\n",
        "Aliens share a tuple, each element of tuple will be a string of alphabets\n",
        "Scientists still don't know what is the content of the strings inside the tuples but depending upon the length of the string, the string translates into an alphabet (0 ≡ ,1 ≡ A, 2 ≡ B, 3 ≡ C, .., 26 ≡ Z)\n",
        "Space between the words of the message is represented by an empty string\n",
        "\n",
        "- A sample message received by SETI\n",
        "\n",
        "- ADAM EVE is denoted by the following tuple:\n",
        "\n",
        "\n",
        " t = (\"s\", \"dymw\", \"z\", \"ndkjaakjkjnda\",\"\",\"tybhg\",\"nmbcjbabdbsabbsbhdbshr\",\"htroy\" )\n",
        "Explanation:\n",
        "\n",
        "A list of length of each element in the tuple is : [1,4,1,13,0,5,22,5]\n",
        "Upon replacing numbers with corresponding alphabets and spaces, we get :\n",
        "['A','D','A','M','','E','V','E'] "
      ],
      "metadata": {
        "id": "SNAKO_ahyJof"
      }
    },
    {
      "cell_type": "markdown",
      "source": [
        "Problem 1\n",
        "Create a dictionary where the key corresponds to the position of the alphabet(consider space as the first alphabet) and the value corresponding to the key will be the alphabet.\n",
        "range() function in Python is pretty useful to get a list of numbers in sequence. You can use help(range) to know more about its details"
      ],
      "metadata": {
        "id": "JB_86NAhyQsK"
      }
    },
    {
      "cell_type": "code",
      "source": [
        "import string\n",
        "d = dict.fromkeys(string.ascii_lowercase, 0)\n",
        "print(d)\n",
        "\n"
      ],
      "metadata": {
        "colab": {
          "base_uri": "https://localhost:8080/"
        },
        "id": "IwZ4kjtPyWEZ",
        "outputId": "7c1e3eb3-6555-451f-b46f-8562135b9201"
      },
      "execution_count": 23,
      "outputs": [
        {
          "output_type": "stream",
          "name": "stdout",
          "text": [
            "{'a': 0, 'b': 0, 'c': 0, 'd': 0, 'e': 0, 'f': 0, 'g': 0, 'h': 0, 'i': 0, 'j': 0, 'k': 0, 'l': 0, 'm': 0, 'n': 0, 'o': 0, 'p': 0, 'q': 0, 'r': 0, 's': 0, 't': 0, 'u': 0, 'v': 0, 'w': 0, 'x': 0, 'y': 0, 'z': 0}\n"
          ]
        }
      ]
    },
    {
      "cell_type": "markdown",
      "source": [
        "Problem 2\n",
        "Scientists receive the following message code from the alien civilization\n",
        "encrypyted_message = (\"ajsuydtbe\", \"\", \"wunjbfusnjrgut\", \"uhbhr\", \"oirun\", \"lpef\", \"\", \"vhejsibr\", \"ydtse\", \"qlvuusrntuos\", \"ijwlbutybhlsoaxh\")\n",
        "You have been asked to decode the above message"
      ],
      "metadata": {
        "id": "-LVFi_HQ3nKY"
      }
    },
    {
      "cell_type": "code",
      "source": [
        "encrypted_message = (\"ajsuydtbe\", \"\", \"wunjbfusnjrgut\", \"uhbhr\", \"oirun\", \"lpef\", \"\", \"vhejsibr\", \"ydtse\", \"qlvuusrntuos\", \"ijwlbutybhlsoaxh\")\n",
        "# Create an empty list \n",
        "string_length_list  = []\n",
        "\n",
        "# Append the length of strings of your tuple using a for loop\n",
        "for i in encrypted_message:\n",
        "  string_length_list.append(i)\n",
        "\n",
        "# Print the list of string lengths\n",
        "print(string_length_list) \n"
      ],
      "metadata": {
        "colab": {
          "base_uri": "https://localhost:8080/"
        },
        "id": "Ewm_3ebi3qsN",
        "outputId": "55e199a6-520b-4c6b-b3d5-ee4686a0297f"
      },
      "execution_count": 24,
      "outputs": [
        {
          "output_type": "stream",
          "name": "stdout",
          "text": [
            "['ajsuydtbe', '', 'wunjbfusnjrgut', 'uhbhr', 'oirun', 'lpef', '', 'vhejsibr', 'ydtse', 'qlvuusrntuos', 'ijwlbutybhlsoaxh']\n"
          ]
        }
      ]
    },
    {
      "cell_type": "code",
      "source": [
        "# Create a string to store the decrypyted message\n",
        "decrypted_message = \"\"\n",
        "# Concatenate the characters using a for loop to get your final decoded message\n",
        "for i in string_length_list:\n",
        "  decrypted_message+=i\n",
        "\n",
        "# Print the message you have decrypted\n",
        "print(decrypted_message)"
      ],
      "metadata": {
        "colab": {
          "base_uri": "https://localhost:8080/"
        },
        "id": "kzhlSVXQ4MQV",
        "outputId": "3b009c67-698e-4681-eacb-4132e1037f61"
      },
      "execution_count": 25,
      "outputs": [
        {
          "output_type": "stream",
          "name": "stdout",
          "text": [
            "ajsuydtbewunjbfusnjrgutuhbhroirunlpefvhejsibrydtseqlvuusrntuosijwlbutybhlsoaxh\n"
          ]
        }
      ]
    },
    {
      "cell_type": "markdown",
      "source": [
        "Problem 3\n",
        "Aliens receive the reply from the scientists. They decode the message and send an encrypted message again. Due to some aberrations because of an existing very massive star, one of the words of their message gets transformed into something gibberish/unreadable. They sent the following message:\n",
        " I saw a <some gibberish> please help me soon\n",
        "Scientists were baffled by the presence of such an indecipherable word in the message sent by Aliens. Suddenly they receive another signal from them which contains the gibberish word but this time the letters have been jumbled up. Scientists need to sort the letters of this word in alphabetical order within it to get the actual transmitted word\n",
        "The encoded list of the unknown word is:\n",
        "\n",
        "jumbled_word = [\"hugdtck\", \"tsogbklesrawqcbjplu\", \"qkisrubskoaitbt\", \"nslaoetr\", \"oksinjioaendnjsdqwbh\"]\n"
      ],
      "metadata": {
        "id": "tWL8lmZK4_uW"
      }
    },
    {
      "cell_type": "code",
      "source": [
        "# Store the list of jumbled word in a variable \n",
        "jumbled_word = [\"hugdtck\", \"tsogbklesrawqcbjplu\", \"qkisrubskoaitbt\", \"nslaoetr\", \"oksinjioaendnjsdqwbh\"]\n",
        "# Create an empty list \n",
        "string_length_list = []\n",
        "\n",
        "# Append the length of each string in the list using a for loop\n",
        "for i in jumbled_word:\n",
        "  string_length_list.append(i)\n",
        "\n",
        "# Print the above list\n",
        "print(string_length_list)\n"
      ],
      "metadata": {
        "colab": {
          "base_uri": "https://localhost:8080/"
        },
        "id": "QseVv3925IJL",
        "outputId": "13a98b5a-a462-4cf5-cc06-dabdfdd85881"
      },
      "execution_count": 37,
      "outputs": [
        {
          "output_type": "stream",
          "name": "stdout",
          "text": [
            "['hugdtck', 'tsogbklesrawqcbjplu', 'qkisrubskoaitbt', 'nslaoetr', 'oksinjioaendnjsdqwbh']\n"
          ]
        }
      ]
    },
    {
      "cell_type": "markdown",
      "source": [
        "Problem 4\n",
        "A perfect number is a positive integer that is equal to the sum of its proper divisors. The smallest perfect number is 6, which is the sum of 1, 2, and 3. Based on a given user input, you need to print whether the input is a perfect number or not. Check on sample inputs such as 28, 128, 200, 496"
      ],
      "metadata": {
        "id": "ry9UONg67c4C"
      }
    },
    {
      "cell_type": "code",
      "source": [
        "def perfect_number(n):\n",
        "    sum = 0\n",
        "    for x in range(1, n):\n",
        "        if n % x == 0:\n",
        "            sum += x\n",
        "    return sum == n\n",
        "print(perfect_number(6))\n",
        "print(perfect_number(28))\n",
        "print(perfect_number(128))\n",
        "print(perfect_number(200))\n",
        "print(perfect_number(496))"
      ],
      "metadata": {
        "colab": {
          "base_uri": "https://localhost:8080/"
        },
        "id": "nOOWypyJ7gH3",
        "outputId": "96d804c6-aded-4b7e-b6f3-16b6d7889d53"
      },
      "execution_count": 40,
      "outputs": [
        {
          "output_type": "stream",
          "name": "stdout",
          "text": [
            "True\n",
            "True\n",
            "False\n",
            "False\n",
            "True\n"
          ]
        }
      ]
    },
    {
      "cell_type": "markdown",
      "source": [
        "5) Consider a famous movie line by Liam Neeson. You need to print only those words from this famous line whose length is greater than 3. Also the output words should be unique.You need to take care of the special characters such as ,. Characters such as apostrophe will be considered to be part of the word."
      ],
      "metadata": {
        "id": "UZNicpST-IKA"
      }
    },
    {
      "cell_type": "code",
      "source": [
        "movie_quote=\"If you let my daughter go now, that'll be the end of it. I will not look for you, I will not pursue you. But if you don't, I will look for you, I will find you, and I will kill you.\"\n",
        "l=movie_quote.split()\n",
        "print(l)\n",
        "a=[]\n",
        "for i in l:\n",
        "  if i.endswith(','):\n",
        "    continue\n",
        "  else:\n",
        "    a.append(i)\n",
        "\n",
        "\n",
        "suf=[]\n",
        "for i in l:\n",
        "  if i.endswith(','):\n",
        "    suf.append(i)\n",
        "\n",
        "\n",
        "b=[]\n",
        "for i in suf:\n",
        "  i=i[:-1]\n",
        "  b.append(i)\n",
        "\n",
        "\n",
        "a.extend(b)\n",
        "\n",
        "three_l=[]\n",
        "for i in a:\n",
        "  if len(i)>3:\n",
        "    three_l.append(i)\n",
        "\n",
        "print(three_l)\n",
        "\n",
        "\n"
      ],
      "metadata": {
        "colab": {
          "base_uri": "https://localhost:8080/"
        },
        "id": "AihSWRDy-Trq",
        "outputId": "c7609da7-0ce1-4117-aa78-ef27f9c8f3cb"
      },
      "execution_count": 87,
      "outputs": [
        {
          "output_type": "stream",
          "name": "stdout",
          "text": [
            "['If', 'you', 'let', 'my', 'daughter', 'go', 'now,', \"that'll\", 'be', 'the', 'end', 'of', 'it.', 'I', 'will', 'not', 'look', 'for', 'you,', 'I', 'will', 'not', 'pursue', 'you.', 'But', 'if', 'you', \"don't,\", 'I', 'will', 'look', 'for', 'you,', 'I', 'will', 'find', 'you,', 'and', 'I', 'will', 'kill', 'you.']\n",
            "['daughter', \"that'll\", 'will', 'look', 'will', 'pursue', 'you.', 'will', 'look', 'will', 'find', 'will', 'kill', 'you.', \"don't\"]\n"
          ]
        }
      ]
    }
  ]
}