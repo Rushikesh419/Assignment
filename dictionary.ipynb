{
  "nbformat": 4,
  "nbformat_minor": 0,
  "metadata": {
    "colab": {
      "provenance": [],
      "authorship_tag": "ABX9TyODGwBBF8PGLk0mgkYLfGoQ",
      "include_colab_link": true
    },
    "kernelspec": {
      "name": "python3",
      "display_name": "Python 3"
    },
    "language_info": {
      "name": "python"
    }
  },
  "cells": [
    {
      "cell_type": "markdown",
      "metadata": {
        "id": "view-in-github",
        "colab_type": "text"
      },
      "source": [
        "<a href=\"https://colab.research.google.com/github/Rushikesh419/Assignment/blob/main/dictionary.ipynb\" target=\"_parent\"><img src=\"https://colab.research.google.com/assets/colab-badge.svg\" alt=\"Open In Colab\"/></a>"
      ]
    },
    {
      "cell_type": "markdown",
      "source": [
        "Problem 1\n",
        "Another measure of average\n",
        "Mode is defined as the value that appears most often in a set of data values. Mode corresponds to the most frequent value.\n",
        "You are given a list of numbers and you need to calculate the mode of this list"
      ],
      "metadata": {
        "id": "CYBalSGnnfLW"
      }
    },
    {
      "cell_type": "code",
      "execution_count": 1,
      "metadata": {
        "colab": {
          "base_uri": "https://localhost:8080/"
        },
        "id": "KdH-nR0PnabA",
        "outputId": "28b995ec-5f30-420c-a10a-3bdc82dd6508"
      },
      "outputs": [
        {
          "output_type": "stream",
          "name": "stdout",
          "text": [
            "[33, 34, 39, 40, 42, 29]\n"
          ]
        }
      ],
      "source": [
        "# A list containing average daily temperature over 10 days\n",
        "temperatures = [34, 40, 29, 33, 42, 40, 39, 34, 34,33 ]\n",
        "# Step 1 : Find the unique set of values. Store this in a list\n",
        "unique_temperatures = set(temperatures)\n",
        "lst = list(unique_temperatures)\n",
        "# Print the unique temperature list\n",
        "print(lst)"
      ]
    },
    {
      "cell_type": "code",
      "source": [
        "# Step 2 : Create an empty dictionary which will contain the unique temperatures as keys and their counts in the original temperatures list as values\n",
        "temp_dict = {}\n",
        "\n",
        "# Set the values for each key separately\n",
        "# First key\n",
        "temp_dict.update({lst[0]:temperatures.count(lst[0])})\n",
        "# Second key\n",
        "temp_dict.update({lst[1]:temperatures.count(lst[1])})\n",
        "# Third key\n",
        "temp_dict.update({lst[2]:temperatures.count(lst[2])})\n",
        "# Fourth key\n",
        "temp_dict.update({lst[3]:temperatures.count(lst[3])})\n",
        "# Fifth key\n",
        "temp_dict.update({lst[4]:temperatures.count(lst[4])})\n",
        "# Sixth key\n",
        "temp_dict.update({lst[5]:temperatures.count(lst[5])})\n",
        "# print\n",
        "print(temp_dict)\n"
      ],
      "metadata": {
        "colab": {
          "base_uri": "https://localhost:8080/"
        },
        "id": "paghqxGinqKR",
        "outputId": "8339af01-2ebd-4baa-9d86-066f8c34278e"
      },
      "execution_count": 2,
      "outputs": [
        {
          "output_type": "stream",
          "name": "stdout",
          "text": [
            "{33: 2, 34: 3, 39: 1, 40: 2, 42: 1, 29: 1}\n"
          ]
        }
      ]
    },
    {
      "cell_type": "code",
      "source": [
        "# Step 3: Store the dictionary values in a list\n",
        "temp_dict_frequencies = list(temp_dict.values())\n",
        "# Print the list of dictionary values\n",
        "print(temp_dict_frequencies,'\\n')\n",
        "# Find the index of the most frequent temperature value\n",
        "maximum=max(temp_dict_frequencies)\n",
        "most_frequent_temp_index = temp_dict_frequencies.count(maximum)\n",
        "# Print the index\n",
        "most_frequent_temp_index"
      ],
      "metadata": {
        "colab": {
          "base_uri": "https://localhost:8080/"
        },
        "id": "hwyi0kuknp_I",
        "outputId": "71290dbe-2dda-4ede-f30f-5d73f83be93c"
      },
      "execution_count": 3,
      "outputs": [
        {
          "output_type": "stream",
          "name": "stdout",
          "text": [
            "[2, 3, 1, 2, 1, 1] \n",
            "\n"
          ]
        },
        {
          "output_type": "execute_result",
          "data": {
            "text/plain": [
              "1"
            ]
          },
          "metadata": {},
          "execution_count": 3
        }
      ]
    },
    {
      "cell_type": "code",
      "source": [
        "# Step 4 : Create the list of dictionary keys\n",
        "temp_dict_keys = list(temp_dict.keys())\n",
        "# Print the list of dictionary keys\n",
        "print(temp_dict_keys,'\\n')\n",
        "# Calculate the mode temperature\n",
        "mode_temp = temp_dict_keys[most_frequent_temp_index]\n",
        "print(mode_temp)"
      ],
      "metadata": {
        "colab": {
          "base_uri": "https://localhost:8080/"
        },
        "id": "Ob_oRrEZn5v6",
        "outputId": "30407f50-0918-4651-8e8d-93d0b6aa2c8d"
      },
      "execution_count": 4,
      "outputs": [
        {
          "output_type": "stream",
          "name": "stdout",
          "text": [
            "[33, 34, 39, 40, 42, 29] \n",
            "\n",
            "34\n"
          ]
        }
      ]
    },
    {
      "cell_type": "markdown",
      "source": [
        "Problem 2\n",
        "Challenging the immutability of tuples\n",
        "You are given a list of tuples. You need to replace the last element of the last tuple"
      ],
      "metadata": {
        "id": "iBXiNKhln-2K"
      }
    },
    {
      "cell_type": "code",
      "source": [
        "# Input list of tuples\n",
        "\n",
        "list_of_tuples = [(10,20,30),(30,40,50),(50,60,70)]\n",
        "\n",
        "\n",
        "# Expected output : Replace the last element 70 with 100\n",
        "# output_list = [(10,20,30),(30,40,50),(50,60,100)]\n",
        "\n",
        "l1=list_of_tuples[:-1]\n",
        "l1"
      ],
      "metadata": {
        "colab": {
          "base_uri": "https://localhost:8080/"
        },
        "id": "AjvA8TEqoCDQ",
        "outputId": "082f21c0-707f-4e7d-ce0f-a0799d2ae4bb"
      },
      "execution_count": 7,
      "outputs": [
        {
          "output_type": "execute_result",
          "data": {
            "text/plain": [
              "[(10, 20, 30), (30, 40, 50)]"
            ]
          },
          "metadata": {},
          "execution_count": 7
        }
      ]
    },
    {
      "cell_type": "code",
      "source": [
        "l2=list_of_tuples[2][:-1]\n",
        "l2"
      ],
      "metadata": {
        "colab": {
          "base_uri": "https://localhost:8080/"
        },
        "id": "JFZsXuWaofYO",
        "outputId": "834e262e-c7ae-4793-ad50-fbf21f21d6b8"
      },
      "execution_count": 8,
      "outputs": [
        {
          "output_type": "execute_result",
          "data": {
            "text/plain": [
              "(50, 60)"
            ]
          },
          "metadata": {},
          "execution_count": 8
        }
      ]
    },
    {
      "cell_type": "code",
      "source": [
        "l3=list_of_tuples[2][:-1]+(100,)\n",
        "l3"
      ],
      "metadata": {
        "colab": {
          "base_uri": "https://localhost:8080/"
        },
        "id": "c-PPdPp5oisC",
        "outputId": "2938367f-081c-4b55-8af8-2770f40858e4"
      },
      "execution_count": 9,
      "outputs": [
        {
          "output_type": "execute_result",
          "data": {
            "text/plain": [
              "(50, 60, 100)"
            ]
          },
          "metadata": {},
          "execution_count": 9
        }
      ]
    },
    {
      "cell_type": "code",
      "source": [
        "li=l1+[l3]    #[l3]- converting (l3) tuple into list and concat \n",
        "li"
      ],
      "metadata": {
        "colab": {
          "base_uri": "https://localhost:8080/"
        },
        "id": "yqim5-YqolsE",
        "outputId": "1378ff4e-86dc-4c84-c8e1-869ee942e105"
      },
      "execution_count": 10,
      "outputs": [
        {
          "output_type": "execute_result",
          "data": {
            "text/plain": [
              "[(10, 20, 30), (30, 40, 50), (50, 60, 100)]"
            ]
          },
          "metadata": {},
          "execution_count": 10
        }
      ]
    },
    {
      "cell_type": "code",
      "source": [
        "list1=list_of_tuples[:-1]+[list_of_tuples[2][:-1]+(100,)]\n",
        "\n",
        "# Print the output list1\n",
        "print(list1)"
      ],
      "metadata": {
        "colab": {
          "base_uri": "https://localhost:8080/"
        },
        "id": "xU-OPkypoqqr",
        "outputId": "536ee17d-be5a-43cb-c744-69aed024328b"
      },
      "execution_count": 11,
      "outputs": [
        {
          "output_type": "stream",
          "name": "stdout",
          "text": [
            "[(10, 20, 30), (30, 40, 50), (50, 60, 100)]\n"
          ]
        }
      ]
    },
    {
      "cell_type": "markdown",
      "source": [
        "Problem 3\n",
        "Natural Language Processing or NLP is one of the most promising fields in Machine Learning. Most of the times in NLP we deal with the textual data (a bunch of strings). Sometimes when we are processing the text, it is a common practice to get rid of some set of stop words from our original text. By default stop words are very common words used in English language such as and, or, punctuations etc.\n",
        "\n",
        "In this exercise, you are provided with a default set of stop words and you need to add some extra set of custom words."
      ],
      "metadata": {
        "id": "Mkj_qN9MovFL"
      }
    },
    {
      "cell_type": "code",
      "source": [
        "# A sample sentence \n",
        "\n",
        "sentence = 'Hello, good morning folks! Today we will announce the half yearly performance results of the company. Due to the ongoing COVID-19 pandemic, our profits have declined by 60% as compared to the last half yearly results'\n",
        "\n",
        "# Print your sentence\n",
        "print(sentence)"
      ],
      "metadata": {
        "colab": {
          "base_uri": "https://localhost:8080/"
        },
        "id": "lZCGHB7ioqna",
        "outputId": "390b69dd-011d-4fab-eee5-ef35c66ac4f0"
      },
      "execution_count": 12,
      "outputs": [
        {
          "output_type": "stream",
          "name": "stdout",
          "text": [
            "Hello, good morning folks! Today we will announce the half yearly performance results of the company. Due to the ongoing COVID-19 pandemic, our profits have declined by 60% as compared to the last half yearly results\n"
          ]
        }
      ]
    },
    {
      "cell_type": "code",
      "source": [
        "# Default set of stop words \n",
        "stop_words = {\"i\", \"me\", \"my\", \"myself\", \"we\", \"our\", \"ours\", \"ourselves\", \"you\", \"your\", \"yours\", \"yourself\", \n",
        "              \"yourselves\", \"he\", \"him\", \"his\", \"himself\", \"she\", \"her\", \"hers\", \"herself\", \"it\", \"its\", \"itself\",\n",
        "              \"they\", \"them\", \"their\", \"theirs\", \"themselves\", \"what\", \"which\", \"who\", \"whom\", \"this\", \"that\",\n",
        "              \"these\", \"those\", \"am\", \"is\", \"are\", \"was\", \"were\", \"be\", \"been\", \"being\", \"have\", \"has\", \"had\",\n",
        "              \"having\", \"do\", \"does\", \"did\", \"doing\", \"a\", \"an\", \"the\", \"and\", \"but\", \"if\", \"or\", \"because\",\n",
        "              \"as\", \"until\", \"while\", \"of\", \"at\", \"by\", \"for\", \"with\", \"about\", \"against\", \"between\", \"into\",\n",
        "              \"through\", \"during\", \"before\", \"after\", \"above\", \"below\", \"to\", \"from\", \"up\", \"down\", \"in\", \"out\", \n",
        "              \"on\", \"off\", \"over\", \"under\", \"again\", \"further\", \"then\", \"once\", \"here\", \"there\", \"when\", \"where\",\n",
        "              \"why\", \"how\", \"all\", \"any\", \"both\", \"each\", \"few\", \"more\", \"most\", \"other\", \"some\", \"such\", \"no\",\n",
        "              \"nor\", \"not\", \"only\", \"own\", \"same\", \"so\", \"than\", \"too\", \"very\", \"s\", \"t\", \"can\", \"will\", \"just\",\n",
        "              \"don\", \"should\", \"now\"}\n",
        "\n",
        "# Update the set of stop words by adding the custom stop words\n",
        "custom_stop_words = [\"hello\",\"good\",\"morning\",\"half\",\"yearly\"]\n",
        "\n",
        "# Your code here\n",
        "\n",
        "stop_words.update(sentence)\n",
        "\n",
        "# Print the updated stop words\n",
        "\n",
        "print(stop_words)"
      ],
      "metadata": {
        "colab": {
          "base_uri": "https://localhost:8080/"
        },
        "id": "MZChSXMPo5Ih",
        "outputId": "8d27abba-f346-4c57-da61-b6e7ee3639e1"
      },
      "execution_count": 13,
      "outputs": [
        {
          "output_type": "stream",
          "name": "stdout",
          "text": [
            "{',', 'have', 'yourself', 'so', 'after', 'v', 'me', 'w', 'his', 'were', 'few', 'are', 'was', 'but', 'themselves', 'how', '1', 'against', 'each', 'her', 'for', 'until', '!', 'you', 'doing', 'being', 'again', 'myself', 'they', 'herself', '0', 'now', '%', 'T', 'other', 'any', 'some', '-', 'don', 'what', 'ourselves', 'e', 'whom', 'while', 'why', 'both', 'only', 'these', 'hers', 'where', 'such', '.', 'with', 'we', 'over', 'just', 'when', 'it', 'does', 'and', 'b', 'from', 'O', 'did', 'u', 'before', 'of', 'because', 'h', 'their', '9', 'not', 'by', 'into', 'than', 'our', 'been', 'nor', 'very', 'theirs', 'during', 'all', 'its', 'under', 'out', 'in', 'who', 'D', 'p', 'she', 'then', 'through', 'them', 'more', 'the', 'if', 'yours', 'y', 'off', 'him', 'between', 's', 'c', 'most', 'he', 'my', 'below', 'or', 'n', 'r', 'as', 'is', 'C', 'your', 'once', 'a', 'can', 'do', 'further', 'itself', 'should', 'I', 'about', 'o', 'this', 'yourselves', 'g', 't', 'an', 'V', 'i', 'own', 'that', 'on', 'above', '6', 'H', 'f', 'up', 'had', ' ', 'to', 'having', 'down', 'no', 'which', 'has', 'm', 'there', 'ours', 'himself', 'k', 'here', 'too', 'at', 'be', 'am', 'those', 'd', 'l', 'will', 'same'}\n"
          ]
        }
      ]
    },
    {
      "cell_type": "code",
      "source": [
        "# Do the same task another way. Keep in mind to use the original set of stop_words for this piece of code\n",
        "\n",
        "another_way =list(stop_words) + custom_stop_words\n",
        "# Print the updated stop words\n",
        "\n",
        "print(another_way)"
      ],
      "metadata": {
        "colab": {
          "base_uri": "https://localhost:8080/"
        },
        "id": "qdRDndjtpCtR",
        "outputId": "46870466-535e-4bde-fc04-4e5326771ed6"
      },
      "execution_count": 14,
      "outputs": [
        {
          "output_type": "stream",
          "name": "stdout",
          "text": [
            "[',', 'have', 'yourself', 'so', 'after', 'v', 'me', 'w', 'his', 'were', 'few', 'are', 'was', 'but', 'themselves', 'how', '1', 'against', 'each', 'her', 'for', 'until', '!', 'you', 'doing', 'being', 'again', 'myself', 'they', 'herself', '0', 'now', '%', 'T', 'other', 'any', 'some', '-', 'don', 'what', 'ourselves', 'e', 'whom', 'while', 'why', 'both', 'only', 'these', 'hers', 'where', 'such', '.', 'with', 'we', 'over', 'just', 'when', 'it', 'does', 'and', 'b', 'from', 'O', 'did', 'u', 'before', 'of', 'because', 'h', 'their', '9', 'not', 'by', 'into', 'than', 'our', 'been', 'nor', 'very', 'theirs', 'during', 'all', 'its', 'under', 'out', 'in', 'who', 'D', 'p', 'she', 'then', 'through', 'them', 'more', 'the', 'if', 'yours', 'y', 'off', 'him', 'between', 's', 'c', 'most', 'he', 'my', 'below', 'or', 'n', 'r', 'as', 'is', 'C', 'your', 'once', 'a', 'can', 'do', 'further', 'itself', 'should', 'I', 'about', 'o', 'this', 'yourselves', 'g', 't', 'an', 'V', 'i', 'own', 'that', 'on', 'above', '6', 'H', 'f', 'up', 'had', ' ', 'to', 'having', 'down', 'no', 'which', 'has', 'm', 'there', 'ours', 'himself', 'k', 'here', 'too', 'at', 'be', 'am', 'those', 'd', 'l', 'will', 'same', 'hello', 'good', 'morning', 'half', 'yearly']\n"
          ]
        }
      ]
    },
    {
      "cell_type": "markdown",
      "source": [
        "Problem 4\n",
        "Write a Python script to check whether a given key already exists in a dictionary. If it does, drop that key from the dictionary. If it does not, add that key and corresponding value to the dictionary"
      ],
      "metadata": {
        "id": "v2NF2IrYpFEd"
      }
    },
    {
      "cell_type": "code",
      "source": [
        "# Your dictionary\n",
        "employee_dict = {'Name':'Sanket','Skills':['Python','Machine Learning','Deep Learning'],'Band':6.0,\n",
        "                 'Promotion Year':[2016,2018,2020]}\n",
        "# Check if the key 'Employee_ID' is present in the dictionary. Hint : use a boolean variable to store this value\n",
        "\n",
        "'Employee_ID' in employee_dict\n",
        "\n",
        "# If not present add this key to this dictionary and the corresponding value to be 4503233\n",
        "\n",
        "employee_dict.update({'Employee_ID':4503233})\n",
        "# Check if the key 'Band' is present in the dictionary.\n",
        "\n",
        "'Band' in employee_dict\n",
        "\n",
        "# If present, drop this key from the dictionary\n",
        "\n",
        "employee_dict.pop('Band')\n"
      ],
      "metadata": {
        "colab": {
          "base_uri": "https://localhost:8080/"
        },
        "id": "2uqqmIlzpHh2",
        "outputId": "32f9d5de-226d-4072-bc91-88f543da62ab"
      },
      "execution_count": 17,
      "outputs": [
        {
          "output_type": "execute_result",
          "data": {
            "text/plain": [
              "6.0"
            ]
          },
          "metadata": {},
          "execution_count": 17
        }
      ]
    },
    {
      "cell_type": "code",
      "source": [
        "# Print the updated dictionary\n",
        "\n",
        "print(employee_dict)\n",
        "\n"
      ],
      "metadata": {
        "colab": {
          "base_uri": "https://localhost:8080/"
        },
        "id": "WAlOoACupR9w",
        "outputId": "016f3df2-4de1-4fa8-ff47-09dd4e6cf177"
      },
      "execution_count": 24,
      "outputs": [
        {
          "output_type": "stream",
          "name": "stdout",
          "text": [
            "{'Name': 'Sanket', 'Skills': ['Python', 'Machine Learning', 'Deep Learning'], 'Promotion Year': [2016, 2018, 2020], 'Employee_ID': 4503233}\n"
          ]
        }
      ]
    }
  ]
}