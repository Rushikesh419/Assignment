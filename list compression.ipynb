{
  "nbformat": 4,
  "nbformat_minor": 0,
  "metadata": {
    "colab": {
      "provenance": [],
      "authorship_tag": "ABX9TyNTtIZi/2M2eAU2bLrBG55X",
      "include_colab_link": true
    },
    "kernelspec": {
      "name": "python3",
      "display_name": "Python 3"
    },
    "language_info": {
      "name": "python"
    }
  },
  "cells": [
    {
      "cell_type": "markdown",
      "metadata": {
        "id": "view-in-github",
        "colab_type": "text"
      },
      "source": [
        "<a href=\"https://colab.research.google.com/github/Rushikesh419/Assignment/blob/main/list%20compression.ipynb\" target=\"_parent\"><img src=\"https://colab.research.google.com/assets/colab-badge.svg\" alt=\"Open In Colab\"/></a>"
      ]
    },
    {
      "cell_type": "markdown",
      "source": [
        "1)The price of a house depends upon a lot of factors. These factors could be the geography, the area of house, the number of bedrooms in the house, proximity to necessary amenities etc. A simplistic model would assume that the price of a house depends on a single factor let's say area of the house.\n",
        "You are given a dictionary where the keys correspond to the area of a house (in sq. ft) and the value for each key is the price of the house (in lakh ₹) of 6 houses of a certain locality in Bengaluru"
      ],
      "metadata": {
        "id": "I1pCOwF47W4I"
      }
    },
    {
      "cell_type": "code",
      "source": [
        "house_area_price_dict = {1056 : 39, 2600 : 120 , 1520 : 95, 1200 : 50, 2700 : 200, 1100 : 40}\n",
        "print(house_area_price_dict)"
      ],
      "metadata": {
        "colab": {
          "base_uri": "https://localhost:8080/"
        },
        "id": "dmJKxsNt7ZKq",
        "outputId": "1e3ae443-b1cb-4697-9299-cc48b395a9d9"
      },
      "execution_count": 1,
      "outputs": [
        {
          "output_type": "stream",
          "name": "stdout",
          "text": [
            "{1056: 39, 2600: 120, 1520: 95, 1200: 50, 2700: 200, 1100: 40}\n"
          ]
        }
      ]
    },
    {
      "cell_type": "markdown",
      "source": [
        "The values of this dictionary are actual prices. You want to make a simple model which takes the house area as input and outputs the predicted price.\n",
        "This model can be written as : predicted_price(area) = 0.05*area + 10"
      ],
      "metadata": {
        "id": "cMFvKeJ779Ra"
      }
    },
    {
      "cell_type": "code",
      "source": [
        "house_areas = list(house_area_price_dict.keys())\n",
        "\n",
        "\n",
        "# Use list comprehension to store the predicted house prices in a list\n",
        "predicted_house_prices = [ 0.05*area + 10 for area in house_areas]\n",
        "\n",
        "# Print the list of predicted house prices\n",
        "print(predicted_house_prices)\n",
        "     "
      ],
      "metadata": {
        "colab": {
          "base_uri": "https://localhost:8080/"
        },
        "id": "f5uLHEw57_fO",
        "outputId": "afd05fb1-b4f4-4266-fd76-f8e180818385"
      },
      "execution_count": 2,
      "outputs": [
        {
          "output_type": "stream",
          "name": "stdout",
          "text": [
            "[62.800000000000004, 140.0, 86.0, 70.0, 145.0, 65.0]\n"
          ]
        }
      ]
    },
    {
      "cell_type": "markdown",
      "source": [
        "Create another list which contains the squares of differences of each element of the two price lists : the actual prices and the predicted prices"
      ],
      "metadata": {
        "id": "uTotPdyD8Jxf"
      }
    },
    {
      "cell_type": "code",
      "source": [
        "# List of actual house prices\n",
        "actual_house_prices = list(house_area_price_dict.values())\n",
        "print(actual_house_prices)\n",
        "\n",
        "zeeped_prices = list(zip(predicted_house_prices, actual_house_prices))\n",
        "print(zeeped_prices)\n",
        "\n",
        "#using list comprehension\n",
        "squared_difference_in_prices = [(i-j)**2 for i, j in zeeped_prices]\n",
        "print(squared_difference_in_prices)"
      ],
      "metadata": {
        "colab": {
          "base_uri": "https://localhost:8080/"
        },
        "id": "T7-ph1-l8Kmy",
        "outputId": "36ab2cf9-cecf-4520-881a-d6c40db5df02"
      },
      "execution_count": 3,
      "outputs": [
        {
          "output_type": "stream",
          "name": "stdout",
          "text": [
            "[39, 120, 95, 50, 200, 40]\n",
            "[(62.800000000000004, 39), (140.0, 120), (86.0, 95), (70.0, 50), (145.0, 200), (65.0, 40)]\n",
            "[566.4400000000002, 400.0, 81.0, 400.0, 3025.0, 625.0]\n"
          ]
        }
      ]
    },
    {
      "cell_type": "markdown",
      "source": [
        "2) A sigmoid function is a mathematical function having a characteristic \"S\"-shaped curve or sigmoid curve. A common example of a sigmoid function is the logistic function shown in the first figure and defined by the formula:\n",
        "\n",
        "Range is defined as all the possible values which the function h(x) can take. Domain is defined as all the possible values which x can take. In this case, range of the function is between 0 to 1 and the domain of the function is all real numbers"
      ],
      "metadata": {
        "id": "EoYSWDQ28qDs"
      }
    },
    {
      "cell_type": "markdown",
      "source": [
        "![download.png](data:image/png;base64,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)"
      ],
      "metadata": {
        "id": "ddyjAMfG8t8J"
      }
    },
    {
      "cell_type": "code",
      "source": [
        "# List of the values of x \n",
        "\n",
        "x = [3, 9, 10, -4, -2, 1, 0, 4, 5, 7]\n",
        "e=2.718\n",
        "\n",
        "# Calculate the corresponding sigmoid functions values using list comprehension. Take the value of e = 2.718\n",
        "sigmoid = [(1/(1+(e)**-i)) for i in x]\n",
        "print(sigmoid) "
      ],
      "metadata": {
        "colab": {
          "base_uri": "https://localhost:8080/"
        },
        "id": "BejPDEQn8_Rc",
        "outputId": "b923fbce-99ca-454a-86a7-12261d691bd9"
      },
      "execution_count": 7,
      "outputs": [
        {
          "output_type": "stream",
          "name": "stdout",
          "text": [
            "[0.9525600725169616, 0.9998764902378104, 0.9999545550385778, 0.017993536805962367, 0.1192246961081721, 0.7310381925766541, 0.5, 0.9820064631940376, 0.9933037016996081, 0.9990882879369025]\n"
          ]
        }
      ]
    },
    {
      "cell_type": "code",
      "source": [
        "bool_v = [bool(x) for x in sigmoid if x>0 and x<1]\n",
        "\n",
        "print(bool_v)\n",
        "# Create a list of those values which are greater than 0.5\n",
        "gl5 = [x for x in sigmoid if x>0.5]\n",
        "\n",
        "print(gl5)"
      ],
      "metadata": {
        "colab": {
          "base_uri": "https://localhost:8080/"
        },
        "id": "2A7dVx7C9OgA",
        "outputId": "bd29202f-a696-4799-d42e-14eab0f61ad2"
      },
      "execution_count": 8,
      "outputs": [
        {
          "output_type": "stream",
          "name": "stdout",
          "text": [
            "[True, True, True, True, True, True, True, True, True, True]\n",
            "[0.9525600725169616, 0.9998764902378104, 0.9999545550385778, 0.7310381925766541, 0.9820064631940376, 0.9933037016996081, 0.9990882879369025]\n"
          ]
        }
      ]
    },
    {
      "cell_type": "markdown",
      "source": [
        "5)You are given a sentence : \"I have been walking and running and dancing and smiling and laughing all my life, yet it all seems pointless.\"\n",
        "\n",
        "You are required to extract all those words from this sentence in a list which ends with ing\n",
        "\n"
      ],
      "metadata": {
        "id": "Pf-gxGyT9vh6"
      }
    },
    {
      "cell_type": "code",
      "source": [
        "str1= \"I have been walking and running and dancing and smiling and laughing all my life, yet it all seems pointless.\"\n",
        "a=str1.split()\n",
        "ing_st=[i for i in a if i[-3::]=='ing']\n",
        "print(ing_st)"
      ],
      "metadata": {
        "colab": {
          "base_uri": "https://localhost:8080/"
        },
        "id": "6t5AwJhx9xW4",
        "outputId": "8a8aeef8-f4eb-48ca-adcb-a29c319dd300"
      },
      "execution_count": 11,
      "outputs": [
        {
          "output_type": "stream",
          "name": "stdout",
          "text": [
            "['walking', 'running', 'dancing', 'smiling', 'laughing']\n"
          ]
        }
      ]
    },
    {
      "cell_type": "markdown",
      "source": [
        "6)Natural Language Processing or NLP is one of the most promising fields in Machine Learning. Most of the times in NLP we deal with the textual data (a bunch of strings). Sometimes when we are processing the text, it is a common practice to get rid of some set of stop words from our original text. By default stop words are very common words used in English language such as and, or, punctuations etc.\n",
        "In this exercise, you are provided with a default set of stop words and you need to add some extra set of custom words and remove these words from the given sentence and obtain the sentence without the stop words"
      ],
      "metadata": {
        "id": "XwPIdvBn-2in"
      }
    },
    {
      "cell_type": "code",
      "source": [
        "sentance='Hello, good morning folks! Today we will announce the half yearly performance results of the company. Due to the ongoing COVID-19 pandemic, our profits have declined by 60% as compared to the last year'\n",
        "print(sentance)\n",
        "word=sentance.split()\n",
        "print(word)"
      ],
      "metadata": {
        "colab": {
          "base_uri": "https://localhost:8080/"
        },
        "id": "yeSgYKlE-4Pn",
        "outputId": "c3479553-bdbd-4011-8c82-c564c5bc6f6b"
      },
      "execution_count": 28,
      "outputs": [
        {
          "output_type": "stream",
          "name": "stdout",
          "text": [
            "Hello, good morning folks! Today we will announce the half yearly performance results of the company. Due to the ongoing COVID-19 pandemic, our profits have declined by 60% as compared to the last year\n",
            "['Hello,', 'good', 'morning', 'folks!', 'Today', 'we', 'will', 'announce', 'the', 'half', 'yearly', 'performance', 'results', 'of', 'the', 'company.', 'Due', 'to', 'the', 'ongoing', 'COVID-19', 'pandemic,', 'our', 'profits', 'have', 'declined', 'by', '60%', 'as', 'compared', 'to', 'the', 'last', 'year']\n"
          ]
        }
      ]
    },
    {
      "cell_type": "code",
      "source": [
        "# Default set of stop words \n",
        "stop_word= {\"i\", \"me\", \"my\", \"myself\", \"we\", \"our\", \"ours\", \"ourselves\", \"you\", \"your\", \"yours\", \"yourself\", \n",
        "              \"yourselves\", \"he\", \"him\", \"his\", \"himself\", \"she\", \"her\", \"hers\", \"herself\", \"it\", \"its\", \"itself\",\n",
        "              \"they\", \"them\", \"their\", \"theirs\", \"themselves\", \"what\", \"which\", \"who\", \"whom\", \"this\", \"that\",\n",
        "              \"these\", \"those\", \"am\", \"is\", \"are\", \"was\", \"were\", \"be\", \"been\", \"being\", \"have\", \"has\", \"had\",\n",
        "              \"having\", \"do\", \"does\", \"did\", \"doing\", \"a\", \"an\", \"the\", \"and\", \"but\", \"if\", \"or\", \"because\",\n",
        "              \"as\", \"until\", \"while\", \"of\", \"at\", \"by\", \"for\", \"with\", \"about\", \"against\", \"between\", \"into\",\n",
        "              \"through\", \"during\", \"before\", \"after\", \"above\", \"below\", \"to\", \"from\", \"up\", \"down\", \"in\", \"out\", \n",
        "              \"on\", \"off\", \"over\", \"under\", \"again\", \"further\", \"then\", \"once\", \"here\", \"there\", \"when\", \"where\",\n",
        "              \"why\", \"how\", \"all\", \"any\", \"both\", \"each\", \"few\", \"more\", \"most\", \"other\", \"some\", \"such\", \"no\",\n",
        "              \"nor\", \"not\", \"only\", \"own\", \"same\", \"so\", \"than\", \"too\", \"very\", \"s\", \"t\", \"can\", \"will\", \"just\",\n",
        "              \"don\", \"should\", \"now\"}\n",
        "custom= [\"hello\",\"good\",\"morning\",\"half\",\"year\"]\n",
        "stop_word.update(custom)\n",
        "print(stop_word)\n",
        "x=list(stop_word)\n",
        "print(sorted(x))"
      ],
      "metadata": {
        "colab": {
          "base_uri": "https://localhost:8080/"
        },
        "id": "zlICYibM_Pzh",
        "outputId": "bc314b99-17c3-410f-96ba-c9bed5b66ccf"
      },
      "execution_count": 27,
      "outputs": [
        {
          "output_type": "stream",
          "name": "stdout",
          "text": [
            "{'all', 'through', 'its', 'itself', 'were', 'most', 'yourself', 'ourselves', 'with', 'those', 'will', 'was', 'during', 'we', 'how', 'and', 'as', 'me', 'her', 'out', 'nor', 'until', 'of', 'our', 'hello', 'by', 'a', 'ours', 'from', 'between', 'other', 'only', 'is', 'below', 'doing', 'are', 'no', 'yours', 'very', 'just', 'while', 'she', 'their', 'about', 'whom', 'more', 'once', 't', 'does', 'both', 'his', 'when', 'why', 'where', 'any', 'above', 'own', 'who', 'good', 'you', 'be', 'this', 'i', 'or', 'half', 'did', 'too', 'morning', 'here', 'they', 'him', 'at', 'the', 'my', 'after', 'over', 'again', 'having', 'so', 'year', 'he', 'it', 'for', 'himself', 'because', 'has', 'an', 'before', 'that', 's', 'to', 'these', 'same', 'under', 'further', 'on', 'few', 'then', 'down', 'your', 'in', 'being', 'such', 'themselves', 'them', 'been', 'can', 'myself', 'am', 'yourselves', 'against', 'hers', 'what', 'if', 'have', 'which', 'theirs', 'but', 'some', 'off', 'there', 'should', 'each', 'don', 'herself', 'now', 'than', 'not', 'had', 'do', 'up', 'into'}\n",
            "['a', 'about', 'above', 'after', 'again', 'against', 'all', 'am', 'an', 'and', 'any', 'are', 'as', 'at', 'be', 'because', 'been', 'before', 'being', 'below', 'between', 'both', 'but', 'by', 'can', 'did', 'do', 'does', 'doing', 'don', 'down', 'during', 'each', 'few', 'for', 'from', 'further', 'good', 'had', 'half', 'has', 'have', 'having', 'he', 'hello', 'her', 'here', 'hers', 'herself', 'him', 'himself', 'his', 'how', 'i', 'if', 'in', 'into', 'is', 'it', 'its', 'itself', 'just', 'me', 'more', 'morning', 'most', 'my', 'myself', 'no', 'nor', 'not', 'now', 'of', 'off', 'on', 'once', 'only', 'or', 'other', 'our', 'ours', 'ourselves', 'out', 'over', 'own', 's', 'same', 'she', 'should', 'so', 'some', 'such', 't', 'than', 'that', 'the', 'their', 'theirs', 'them', 'themselves', 'then', 'there', 'these', 'they', 'this', 'those', 'through', 'to', 'too', 'under', 'until', 'up', 'very', 'was', 'we', 'were', 'what', 'when', 'where', 'which', 'while', 'who', 'whom', 'why', 'will', 'with', 'year', 'you', 'your', 'yours', 'yourself', 'yourselves']\n"
          ]
        }
      ]
    },
    {
      "cell_type": "code",
      "source": [
        "new=[i for i in word if i not in stop_word]\n",
        "print(new)"
      ],
      "metadata": {
        "colab": {
          "base_uri": "https://localhost:8080/"
        },
        "id": "YPVin-raCQFn",
        "outputId": "856ec1d5-eb54-4a5d-ed25-57d9ab3e71d3"
      },
      "execution_count": 29,
      "outputs": [
        {
          "output_type": "stream",
          "name": "stdout",
          "text": [
            "['Hello,', 'folks!', 'Today', 'announce', 'yearly', 'performance', 'results', 'company.', 'Due', 'ongoing', 'COVID-19', 'pandemic,', 'profits', 'declined', '60%', 'compared', 'last']\n"
          ]
        }
      ]
    },
    {
      "cell_type": "code",
      "source": [
        "# Finally using the join() method, get the sentence without the stop words. Keep in mind that every word in the sentence will be separated by space\n",
        "print(' '.join(new))"
      ],
      "metadata": {
        "colab": {
          "base_uri": "https://localhost:8080/"
        },
        "id": "-7_JDPYaIjw8",
        "outputId": "3c3dd8f3-f375-495f-abca-5ded1c432ffc"
      },
      "execution_count": 30,
      "outputs": [
        {
          "output_type": "stream",
          "name": "stdout",
          "text": [
            "Hello, folks! Today announce yearly performance results company. Due ongoing COVID-19 pandemic, profits declined 60% compared last\n"
          ]
        }
      ]
    }
  ]
}