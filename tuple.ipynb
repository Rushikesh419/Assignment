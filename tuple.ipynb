{
  "nbformat": 4,
  "nbformat_minor": 0,
  "metadata": {
    "colab": {
      "provenance": [],
      "authorship_tag": "ABX9TyPU16kEomGhDa9c19bMq8zS",
      "include_colab_link": true
    },
    "kernelspec": {
      "name": "python3",
      "display_name": "Python 3"
    },
    "language_info": {
      "name": "python"
    }
  },
  "cells": [
    {
      "cell_type": "markdown",
      "metadata": {
        "id": "view-in-github",
        "colab_type": "text"
      },
      "source": [
        "<a href=\"https://colab.research.google.com/github/Rushikesh419/Assignment/blob/main/tuple.ipynb\" target=\"_parent\"><img src=\"https://colab.research.google.com/assets/colab-badge.svg\" alt=\"Open In Colab\"/></a>"
      ]
    },
    {
      "cell_type": "markdown",
      "source": [
        "1) As an analyst, you had to present the quarterly performance results of your client. The data which you were provided was on daily basis. To complete this task, you needed to extract the quarter from a given date. For example:\n",
        "\n",
        "if the date lies between 1st Jan, 2020 - 31st March, 2020, you need to extract the corresponding quarter as '2020-Q1'\n",
        "\n",
        "if the date lies between 1st April, 2020 - 30th June, 2020, the extracted quarter will be '2020-Q2'\n",
        "\n",
        "if the date lies between 1st July, 2020 - 30th September, 2020, the extracted quarter will be '2020-Q3'\n",
        "\n",
        "if the date lies between 1st October, 2020 - 31st Decemeber, 2020 then the extracted quarter will be '2020-Q4'"
      ],
      "metadata": {
        "id": "LUk-ZR8Uk3-a"
      }
    },
    {
      "cell_type": "code",
      "source": [
        "# Take a proper date input from the user in the format YYYY-MM-DD. Consider this date as a string\n",
        "user_date = input()"
      ],
      "metadata": {
        "colab": {
          "base_uri": "https://localhost:8080/"
        },
        "id": "UH9wYPtlk7wZ",
        "outputId": "fc4f6e86-e626-495c-e24c-5bf19aa382ea"
      },
      "execution_count": 1,
      "outputs": [
        {
          "name": "stdout",
          "output_type": "stream",
          "text": [
            "2020-01-29\n"
          ]
        }
      ]
    },
    {
      "cell_type": "code",
      "source": [
        "# Write your code using if else statements to extract the quarter\n",
        "date_year = int(user_date[:4])\n",
        "date_month = int(user_date[5:7])\n",
        "\n",
        "# Store the quarter value in a string variable named quarter\n",
        "\n",
        "quarter = ''\n",
        "\n",
        "if date_month >=1 and date_month <4:\n",
        "  quarter = str(date_year) + '-Q1'\n",
        "elif date_month >=4 and date_month <7:\n",
        "  quarter = str(date_year) + '-Q2'\n",
        "elif date_month >=7 and date_month <10:\n",
        "  quarter = str(date_year) + '-Q3'\n",
        "else:\n",
        "  quarter = str(date_year) + '-Q4'\n",
        "# Print the extracted quarter\n",
        "print(quarter)\n"
      ],
      "metadata": {
        "colab": {
          "base_uri": "https://localhost:8080/"
        },
        "id": "nt-0bogGlNY5",
        "outputId": "173b6841-fdb3-4525-c3e9-43fa78c232d3"
      },
      "execution_count": 2,
      "outputs": [
        {
          "output_type": "stream",
          "name": "stdout",
          "text": [
            "2020-Q1\n"
          ]
        }
      ]
    },
    {
      "cell_type": "markdown",
      "source": [
        "2) Problem 2\n",
        "You went out in your local neighbourhood to collect the data of people residing in the locale. You surveyed 5 people and collected some data and stored that in a dictionary. You recorded their names, their age, their sex, their heights(in cms) and their weights(in kgs)"
      ],
      "metadata": {
        "id": "kmTNIQb1lSj2"
      }
    },
    {
      "cell_type": "code",
      "source": [
        "# Surveyed data \n",
        "\n",
        "locality_data = {'Name' : ['Abhinav','Sohail','Dheeraj','Rashmi','Vaishali'],\n",
        "                  'Age' : [42,29,35,28,32],\n",
        "                  'Sex' : ['Male', 'Male','Male','Female','Female'] , \n",
        "                  'Height' : [172,175,170,168,170],\n",
        "                  'Weight' : [70,82,60,55,64]\n",
        "                 }\n",
        "\n",
        "# Calculate the mean height and print it\n",
        "\n",
        "mean_height = sum(locality_data['Height'])/len(locality_data['Height'])\n",
        "print(\"mean_height:\",mean_height)\n",
        "# Calculate the median height and print it\n",
        "\n",
        "length_height = len(locality_data['Height'])\n",
        "sorted_height = sorted(locality_data['Height'])\n",
        "\n",
        "\n",
        "median_height = (sorted_height[int(length_height/2)-1])\n",
        "print(\"median_height:\",median_height)\n",
        "\n",
        "# Calculate the mean weight and print it\n",
        "\n",
        "mean_weight = sum(locality_data['Weight'])/len(locality_data['Weight'])\n",
        "print(\"mean_weight:\",mean_weight)\n",
        "\n",
        "\n",
        "# Calculate the median weight and print it\n",
        "\n",
        "length_weight = len(locality_data['Weight'])\n",
        "sorted_weight = sorted(locality_data['Weight'])\n",
        "median_weight = (sorted_weight[int(length_weight/2)-1])\n",
        "print(\"median_weight:\",median_weight)\n"
      ],
      "metadata": {
        "colab": {
          "base_uri": "https://localhost:8080/"
        },
        "id": "OSK0CXWjlV8l",
        "outputId": "92e02956-8d2b-47cf-c835-f0c32e2e41b1"
      },
      "execution_count": 7,
      "outputs": [
        {
          "output_type": "stream",
          "name": "stdout",
          "text": [
            "mean_height: 171.0\n",
            "median_height: 170\n",
            "mean_weight: 66.2\n",
            "median_weight: 60\n"
          ]
        }
      ]
    },
    {
      "cell_type": "markdown",
      "source": [
        "Write a Python code to print the first three elements from the list of age values corresponding to the key 'Age'"
      ],
      "metadata": {
        "id": "K6bP4wUTmD6T"
      }
    },
    {
      "cell_type": "code",
      "source": [
        "ages = locality_data['Age'][:3]\n",
        "print(ages)"
      ],
      "metadata": {
        "colab": {
          "base_uri": "https://localhost:8080/"
        },
        "id": "k7cKPN4JmFD7",
        "outputId": "96ec93df-9ed3-4234-b455-c9de1b718233"
      },
      "execution_count": 8,
      "outputs": [
        {
          "output_type": "stream",
          "name": "stdout",
          "text": [
            "[42, 29, 35]\n"
          ]
        }
      ]
    },
    {
      "cell_type": "markdown",
      "source": [
        "Write a Python code to print the last two elements of the name list if the list of values corresponding to the key 'Name' contains the element 'Rashmi' else print 'Name not found'"
      ],
      "metadata": {
        "id": "gSKwwFH8mP8N"
      }
    },
    {
      "cell_type": "code",
      "source": [
        "# Your code below\n",
        "data=locality_data['Name'][2:4]\n",
        "\n",
        "if 'Rashmi' in data:\n",
        "  print(data)\n",
        "else:\n",
        "  print('Name not found')\n"
      ],
      "metadata": {
        "colab": {
          "base_uri": "https://localhost:8080/"
        },
        "id": "Pr5GIIT0mKEO",
        "outputId": "da26a3d4-246a-4753-ea90-038c29c31488"
      },
      "execution_count": 9,
      "outputs": [
        {
          "output_type": "stream",
          "name": "stdout",
          "text": [
            "['Dheeraj', 'Rashmi']\n"
          ]
        }
      ]
    },
    {
      "cell_type": "markdown",
      "source": [
        "Problem 3\n",
        "A student will not be allowed to sit in exam if his/her attendence is less than 75%.\n",
        "\n",
        "Take following input from user\n",
        "\n",
        "Number of classes held\n",
        "Number of classes attended."
      ],
      "metadata": {
        "id": "dYX5sq9kmYmJ"
      }
    },
    {
      "cell_type": "code",
      "source": [
        "# Enter your input\n",
        "\n",
        "print(\"Number of classes held\")\n",
        "classes_held = int(input())\n",
        "\n",
        "print(\"Number of classes attended\")\n",
        "classes_attended = int(input())"
      ],
      "metadata": {
        "colab": {
          "base_uri": "https://localhost:8080/"
        },
        "id": "QMduq6PHmcnf",
        "outputId": "ee8ef8eb-20d9-46d1-92e0-4b02fbd40109"
      },
      "execution_count": 10,
      "outputs": [
        {
          "name": "stdout",
          "output_type": "stream",
          "text": [
            "Number of classes held\n",
            "100\n",
            "Number of classes attended\n",
            "82\n"
          ]
        }
      ]
    },
    {
      "cell_type": "code",
      "source": [
        "# Calculate the attendance percentage\n",
        "attendance = classes_attended*100/classes_held\n",
        "\n",
        "print(f'The attendance is {attendance}')"
      ],
      "metadata": {
        "colab": {
          "base_uri": "https://localhost:8080/"
        },
        "id": "LukrffcPmmwI",
        "outputId": "595560dc-9d02-4653-a166-4bbd15e08bd9"
      },
      "execution_count": 11,
      "outputs": [
        {
          "output_type": "stream",
          "name": "stdout",
          "text": [
            "The attendance is 82.0\n"
          ]
        }
      ]
    },
    {
      "cell_type": "markdown",
      "source": [
        "And print the following statements based on the condition above\n",
        "\n",
        "percentage of class attended\n",
        "Is student is allowed to sit in exam or not."
      ],
      "metadata": {
        "id": "vujzQ32-mqLw"
      }
    },
    {
      "cell_type": "code",
      "source": [
        "if attendance < 75:\n",
        "  print(\"Student is not allowed to sit in exam.\")\n",
        "else:\n",
        "  print(\"Student is allowed to sit in exam.\")"
      ],
      "metadata": {
        "colab": {
          "base_uri": "https://localhost:8080/"
        },
        "id": "hQRpJdsEmrGR",
        "outputId": "81552220-0bee-40ca-99d8-5f6c1758202e"
      },
      "execution_count": 12,
      "outputs": [
        {
          "output_type": "stream",
          "name": "stdout",
          "text": [
            "Student is allowed to sit in exam.\n"
          ]
        }
      ]
    },
    {
      "cell_type": "markdown",
      "source": [
        "Problem 4\n",
        "A school has following rules for grading system:\n",
        "Below 25 - F\n",
        "25 to 45 - E\n",
        "45 to 50 - D\n",
        "50 to 60 - C\n",
        "60 to 80 - B\n",
        "Above 80 - A\n",
        "Keep the left number inclusive and the right number exclusive, something like [25,45) for grade E where the set is closed at 25 and open at 45.\n",
        "\n",
        "Write a Python code which takes marks as inputs from the user and print the corresponding grade."
      ],
      "metadata": {
        "id": "DJLqAsbjm1FR"
      }
    },
    {
      "cell_type": "code",
      "source": [
        "print(\"Enter your marks\")\n",
        "marks = int(input())\n",
        "\n",
        "if marks <= 25:\n",
        "    print(\"F\")\n",
        "elif marks>25 and marks <= 45:\n",
        "    print(\"E\")\n",
        "elif marks>45 and marks <= 50:\n",
        "    print(\"D\")\n",
        "elif marks>50 and marks <= 60:\n",
        "    print(\"C\")\n",
        "elif marks>60 and marks <= 80:\n",
        "    print(\"B\")\n",
        "else :\n",
        "    marks>80\n",
        "    print(\"A\")"
      ],
      "metadata": {
        "colab": {
          "base_uri": "https://localhost:8080/"
        },
        "id": "pINISfwYm0I8",
        "outputId": "22c529ec-eaa6-4467-e5db-d9282367cb51"
      },
      "execution_count": 14,
      "outputs": [
        {
          "output_type": "stream",
          "name": "stdout",
          "text": [
            "Enter your marks\n",
            "78\n",
            "B\n"
          ]
        }
      ]
    }
  ]
}