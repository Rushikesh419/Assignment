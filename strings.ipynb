{
  "nbformat": 4,
  "nbformat_minor": 0,
  "metadata": {
    "colab": {
      "provenance": [],
      "authorship_tag": "ABX9TyM1yYwJKAWns+zQ+Ywj4M3l",
      "include_colab_link": true
    },
    "kernelspec": {
      "name": "python3",
      "display_name": "Python 3"
    },
    "language_info": {
      "name": "python"
    }
  },
  "cells": [
    {
      "cell_type": "markdown",
      "metadata": {
        "id": "view-in-github",
        "colab_type": "text"
      },
      "source": [
        "<a href=\"https://colab.research.google.com/github/Rushikesh419/Assignment/blob/main/strings.ipynb\" target=\"_parent\"><img src=\"https://colab.research.google.com/assets/colab-badge.svg\" alt=\"Open In Colab\"/></a>"
      ]
    },
    {
      "cell_type": "markdown",
      "source": [
        "While doing this assignment only use those concepts which have been taught till now\n",
        "Problem 1\n",
        "You are given a sentence which reads \"Wikipedia is a free online encyclopedia, created and edited by volunteers around the world and hosted by the Wikimedia Foundation.\"\n",
        "\n",
        "Find the number of words in the given sentence.\n"
      ],
      "metadata": {
        "id": "r7EOBTDniJne"
      }
    },
    {
      "cell_type": "code",
      "source": [
        "sentence = \"Wikipedia is a free online encyclopedia, created and edited by volunteers around the world and hosted by the Wikimedia Foundation.\"\n",
        "\n",
        "# Calculate the total number of words in the sentence.  Hint : Use the count() method\n",
        "\n",
        "num_of_words = sentence.count(\" \")+1         # +1 -space is not count\n",
        "# Print the variable num_of_words\n",
        "num_of_words"
      ],
      "metadata": {
        "colab": {
          "base_uri": "https://localhost:8080/"
        },
        "id": "kr8DAK3iiNBt",
        "outputId": "4feebea1-408e-4f59-8d7e-94cde13565b4"
      },
      "execution_count": 1,
      "outputs": [
        {
          "output_type": "execute_result",
          "data": {
            "text/plain": [
              "20"
            ]
          },
          "metadata": {},
          "execution_count": 1
        }
      ]
    },
    {
      "cell_type": "markdown",
      "source": [
        "2)Write a Python code which takes a number and returns a corresponding string of hyphens. For example if the number is 3, it will return '---' , if the number is 5 it will return '-----'"
      ],
      "metadata": {
        "id": "RW1kfDvbiYPE"
      }
    },
    {
      "cell_type": "code",
      "source": [
        "# Store the user input in a variable\n",
        "inputted_number = int(input())"
      ],
      "metadata": {
        "colab": {
          "base_uri": "https://localhost:8080/"
        },
        "id": "-DRhySKpicq_",
        "outputId": "b0c286b9-7b92-4ce1-a078-6f219c8ac86c"
      },
      "execution_count": 2,
      "outputs": [
        {
          "name": "stdout",
          "output_type": "stream",
          "text": [
            "5\n"
          ]
        }
      ]
    },
    {
      "cell_type": "code",
      "source": [
        "# Create a string of equivalent number of hyphens. Hint : remember what happens when we multiply string by a number?\n",
        "string_of_hyphens = inputted_number * \"-\"\n",
        "# Print the string of hyphens\n",
        "string_of_hyphens"
      ],
      "metadata": {
        "colab": {
          "base_uri": "https://localhost:8080/",
          "height": 36
        },
        "id": "B4okp_8ZijbY",
        "outputId": "16a595de-72c4-4b2a-c122-2351d5815bbf"
      },
      "execution_count": 3,
      "outputs": [
        {
          "output_type": "execute_result",
          "data": {
            "text/plain": [
              "'-----'"
            ],
            "application/vnd.google.colaboratory.intrinsic+json": {
              "type": "string"
            }
          },
          "metadata": {},
          "execution_count": 3
        }
      ]
    },
    {
      "cell_type": "code",
      "source": [
        "inputted_number = int(input())\n",
        "result=inputted_number*\"-\"\n",
        "print(result)"
      ],
      "metadata": {
        "colab": {
          "base_uri": "https://localhost:8080/"
        },
        "id": "XqjZhizkirl2",
        "outputId": "9e5b6c72-0409-4d2c-92c9-43688d6f52f3"
      },
      "execution_count": 5,
      "outputs": [
        {
          "output_type": "stream",
          "name": "stdout",
          "text": [
            "6\n",
            "------\n"
          ]
        }
      ]
    },
    {
      "cell_type": "markdown",
      "source": [
        "3) Problem 3\n",
        "A string can be called a safe bridge if it has no gaps in it i.e, no spaces. You are supposed to take an input from the user and print whether the string is a safe bridge or not.\n",
        "\n"
      ],
      "metadata": {
        "id": "lh2P5bmji1f7"
      }
    },
    {
      "cell_type": "code",
      "source": [
        "# Store the user input in a variable\n",
        "bridge = input()"
      ],
      "metadata": {
        "colab": {
          "base_uri": "https://localhost:8080/"
        },
        "id": "uUfLW6c3i22V",
        "outputId": "c004c5f4-3ade-48d8-aa3e-7a6150f67e90"
      },
      "execution_count": 6,
      "outputs": [
        {
          "name": "stdout",
          "output_type": "stream",
          "text": [
            "3\n"
          ]
        }
      ]
    },
    {
      "cell_type": "code",
      "source": [
        "# Return True if the bridge is safe and False if the bridge is not safe. Hint : Use the find() method\n",
        "is_safe_bridge = bridge.find(\" \") == -1\n",
        "# Fill in the blanks\n",
        "print(f\"It is {is_safe_bridge} that the bridge is a safe bridge\" )"
      ],
      "metadata": {
        "colab": {
          "base_uri": "https://localhost:8080/"
        },
        "id": "8QrhtLYZi785",
        "outputId": "a7596115-3e43-4530-924c-1de85401ec67"
      },
      "execution_count": 7,
      "outputs": [
        {
          "output_type": "stream",
          "name": "stdout",
          "text": [
            "It is True that the bridge is a safe bridge\n"
          ]
        }
      ]
    },
    {
      "cell_type": "code",
      "source": [
        "bridge = input()\n",
        "is_safe_bridge = bridge.find(\" \") == -1\n",
        "print(f\"It is {is_safe_bridge} that the bridge is a safe bridge\" )"
      ],
      "metadata": {
        "colab": {
          "base_uri": "https://localhost:8080/"
        },
        "id": "kIWAY04tjA-e",
        "outputId": "be905365-119c-47ef-8466-2719e9f5858b"
      },
      "execution_count": 8,
      "outputs": [
        {
          "output_type": "stream",
          "name": "stdout",
          "text": [
            "hello\n",
            "It is True that the bridge is a safe bridge\n"
          ]
        }
      ]
    },
    {
      "cell_type": "markdown",
      "source": [
        "4) Problem 4\n",
        "Count the number of D's in a string inputted by the user. This will be case insensitive.\n",
        "\n"
      ],
      "metadata": {
        "id": "wK5gGPstjKaH"
      }
    },
    {
      "cell_type": "code",
      "source": [
        "# Store the user input in a variable\n",
        "user_string = 'Debris was scattered all over the yard in the densest region of Denmark'\n",
        "# Store the count of letter D in the inputted string. Note this will be a case insensitive search\n",
        "D_counts = user_string.count(\"D\")\n",
        "# Fill in the blanks\n",
        "print(f\"The total occurrence of D in the user_string is {D_counts}\")"
      ],
      "metadata": {
        "colab": {
          "base_uri": "https://localhost:8080/"
        },
        "id": "lSzhskCNjRr3",
        "outputId": "f7cf1ae8-e4b5-4d33-f30d-b1fc8538304b"
      },
      "execution_count": 10,
      "outputs": [
        {
          "output_type": "stream",
          "name": "stdout",
          "text": [
            "The total occurrence of D in the user_string is 2\n"
          ]
        }
      ]
    },
    {
      "cell_type": "code",
      "source": [
        "user_string = 'Debris was scattered all over the yard in the densest region of Denmark'\n",
        "e_counts = user_string.count(\"e\")  # e count\n",
        "print(f\"The total occurrence of e in the user_string is {e_counts}\")"
      ],
      "metadata": {
        "colab": {
          "base_uri": "https://localhost:8080/"
        },
        "id": "nTZnUsJJjeIR",
        "outputId": "becce457-398b-4a06-dc95-d5f5e8efadaa"
      },
      "execution_count": 11,
      "outputs": [
        {
          "output_type": "stream",
          "name": "stdout",
          "text": [
            "The total occurrence of e in the user_string is 10\n"
          ]
        }
      ]
    },
    {
      "cell_type": "markdown",
      "source": [
        "5) Check whether a given string is a palindrome. A palindrome is a word, number, phrase, or other sequence of characters which reads the same backward as forward, such as madam, racecar."
      ],
      "metadata": {
        "id": "Iyn05RnOjfcl"
      }
    },
    {
      "cell_type": "code",
      "source": [
        "# Store the user input in a variable\n",
        "user_string = input()"
      ],
      "metadata": {
        "colab": {
          "base_uri": "https://localhost:8080/"
        },
        "id": "kkrw3aREjikI",
        "outputId": "a7aefe8c-b4b7-4630-b5ac-1e620fad096e"
      },
      "execution_count": 13,
      "outputs": [
        {
          "name": "stdout",
          "output_type": "stream",
          "text": [
            "rushikesh\n"
          ]
        }
      ]
    },
    {
      "cell_type": "code",
      "source": [
        "# Print True if a string is a Palindrome else print false\n",
        "user_string[::] == user_string[::-1]\n"
      ],
      "metadata": {
        "colab": {
          "base_uri": "https://localhost:8080/"
        },
        "id": "TF2sh7XKj0q0",
        "outputId": "15dca39f-9b50-47f4-8341-b2cb054030f9"
      },
      "execution_count": 14,
      "outputs": [
        {
          "output_type": "execute_result",
          "data": {
            "text/plain": [
              "False"
            ]
          },
          "metadata": {},
          "execution_count": 14
        }
      ]
    },
    {
      "cell_type": "code",
      "source": [
        "def Palindrome(s):\n",
        "    return s == s[::-1]  \n",
        "s = input()\n",
        "ans = Palindrome(s)\n",
        " \n",
        "if ans:\n",
        "    print(\"True\")\n",
        "else:\n",
        "    print(\"False\")"
      ],
      "metadata": {
        "colab": {
          "base_uri": "https://localhost:8080/"
        },
        "id": "R-uAXIBqj6jR",
        "outputId": "d21bffa5-1051-423f-8639-1c3d76fb919f"
      },
      "execution_count": 15,
      "outputs": [
        {
          "output_type": "stream",
          "name": "stdout",
          "text": [
            "madam\n",
            "True\n"
          ]
        }
      ]
    },
    {
      "cell_type": "code",
      "source": [],
      "metadata": {
        "id": "pdpTPT4Dj9yI"
      },
      "execution_count": null,
      "outputs": []
    }
  ]
}