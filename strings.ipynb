{
  "nbformat": 4,
  "nbformat_minor": 0,
  "metadata": {
    "colab": {
      "provenance": [],
      "authorship_tag": "ABX9TyPGvwOoUkQdWW0MoL93xSJX",
      "include_colab_link": true
    },
    "kernelspec": {
      "name": "python3",
      "display_name": "Python 3"
    },
    "language_info": {
      "name": "python"
    }
  },
  "cells": [
    {
      "cell_type": "markdown",
      "metadata": {
        "id": "view-in-github",
        "colab_type": "text"
      },
      "source": [
        "<a href=\"https://colab.research.google.com/github/Rushikesh419/Assignment/blob/main/strings.ipynb\" target=\"_parent\"><img src=\"https://colab.research.google.com/assets/colab-badge.svg\" alt=\"Open In Colab\"/></a>"
      ]
    },
    {
      "cell_type": "markdown",
      "source": [
        "1) You are given a sentence which reads \"Wikipedia is a free online encyclopedia, created and edited by volunteers around the world and hosted by the Wikimedia Foundation.\"\n",
        "\n",
        "Find the number of words in the given sentence"
      ],
      "metadata": {
        "id": "m0LCo_-y1WqE"
      }
    },
    {
      "cell_type": "code",
      "source": [
        "str=\"Wikipedia is a free online encyclopedia, created and edited by volunteers around the world and hosted by the Wikimedia Foundation.\"\n",
        "a=str.split()\n",
        "word_count=0\n",
        "for i in a:\n",
        "  word_count+=1\n",
        "\n",
        "print(f'number of words are {word_count}')"
      ],
      "metadata": {
        "colab": {
          "base_uri": "https://localhost:8080/"
        },
        "id": "KZfY6sQO1eLU",
        "outputId": "c1aaf0eb-0120-4fc7-c9f9-7834442b9e61"
      },
      "execution_count": 2,
      "outputs": [
        {
          "output_type": "stream",
          "name": "stdout",
          "text": [
            "number of words are 20\n"
          ]
        }
      ]
    },
    {
      "cell_type": "markdown",
      "source": [
        "2)Write a Python code which takes a number and returns a corresponding string of hyphens. For example if the number is 3, it will return '---' , if the number is 5 it will return '-----'"
      ],
      "metadata": {
        "id": "bk9SENg429la"
      }
    },
    {
      "cell_type": "code",
      "source": [
        "num=int(input('enter the number: '))\n",
        "string_of_hyphen=num*'-'\n",
        "string_of_hyphen"
      ],
      "metadata": {
        "colab": {
          "base_uri": "https://localhost:8080/",
          "height": 53
        },
        "id": "V3v9YS2v2_49",
        "outputId": "3f76499d-71c7-49a3-e796-0cfc449a44dd"
      },
      "execution_count": 3,
      "outputs": [
        {
          "name": "stdout",
          "output_type": "stream",
          "text": [
            "enter the number: 5\n"
          ]
        },
        {
          "output_type": "execute_result",
          "data": {
            "text/plain": [
              "'-----'"
            ],
            "application/vnd.google.colaboratory.intrinsic+json": {
              "type": "string"
            }
          },
          "metadata": {},
          "execution_count": 3
        }
      ]
    },
    {
      "cell_type": "markdown",
      "source": [
        "3) A string can be called a safe bridge if it has no gaps in it i.e, no spaces. You are supposed to take an input from the user and print whether the string is a safe bridge or not."
      ],
      "metadata": {
        "id": "u3xdgFTZ3bL6"
      }
    },
    {
      "cell_type": "code",
      "source": [
        "str1=input('enter the string: ')\n",
        "if str1.isspace()==False:\n",
        "  print(f'the string is safe bridge')\n",
        "else:\n",
        "  print('the string is not safe bridge')"
      ],
      "metadata": {
        "colab": {
          "base_uri": "https://localhost:8080/"
        },
        "id": "IvQi3mDX3hPU",
        "outputId": "8509d16c-bedb-473f-8266-c0a24518ff88"
      },
      "execution_count": 13,
      "outputs": [
        {
          "output_type": "stream",
          "name": "stdout",
          "text": [
            "enter the string: rushi\n",
            "the string is safe bridge\n"
          ]
        }
      ]
    },
    {
      "cell_type": "markdown",
      "source": [
        "4) Count the number of D's in a string inputted by the user. This will be case insensitive."
      ],
      "metadata": {
        "id": "OWODS9Bu8SmX"
      }
    },
    {
      "cell_type": "code",
      "source": [
        "user_string = 'Debris was scattered all over the yard in the densest region of Denmark'\n",
        "count_D=0\n",
        "for i in user_string:\n",
        "  if i=='D':\n",
        "    count_D+=1\n",
        "\n",
        "print(f'count of D in string is {count_D}')"
      ],
      "metadata": {
        "colab": {
          "base_uri": "https://localhost:8080/"
        },
        "id": "PXReeJP98YgI",
        "outputId": "abf3e431-ae7e-4470-c2c3-9150ff14b45a"
      },
      "execution_count": 15,
      "outputs": [
        {
          "output_type": "stream",
          "name": "stdout",
          "text": [
            "count of D in string is 2\n"
          ]
        }
      ]
    },
    {
      "cell_type": "code",
      "source": [
        "# or we can do this like\n",
        "Dcou=user_string.count('D')\n",
        "print(Dcou)"
      ],
      "metadata": {
        "colab": {
          "base_uri": "https://localhost:8080/"
        },
        "id": "2sIWexQ29jUb",
        "outputId": "15bcd310-ad04-4c91-cbb7-6d69f3ecb516"
      },
      "execution_count": 16,
      "outputs": [
        {
          "output_type": "stream",
          "name": "stdout",
          "text": [
            "2\n"
          ]
        }
      ]
    },
    {
      "cell_type": "markdown",
      "source": [
        "5) Check whether a given string is a palindrome. A palindrome is a word, number, phrase, or other sequence of characters which reads the same backward as forward, such as madam, racecar."
      ],
      "metadata": {
        "id": "6ScMB-7L94L9"
      }
    },
    {
      "cell_type": "code",
      "source": [
        "str1=input('enter the string : ')\n",
        "if str1[::]==str1[::-1]:\n",
        "  print('it is palindrome')\n",
        "else:\n",
        "  print('it is not palindrome')"
      ],
      "metadata": {
        "colab": {
          "base_uri": "https://localhost:8080/"
        },
        "id": "Ph4jQWua98Yf",
        "outputId": "a3f69ec7-c6ce-431e-8e2d-e2015eabddac"
      },
      "execution_count": 17,
      "outputs": [
        {
          "output_type": "stream",
          "name": "stdout",
          "text": [
            "enter the string : madam\n",
            "it is palindrome\n"
          ]
        }
      ]
    }
  ]
}