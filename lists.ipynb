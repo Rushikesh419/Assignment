{
  "nbformat": 4,
  "nbformat_minor": 0,
  "metadata": {
    "colab": {
      "provenance": [],
      "authorship_tag": "ABX9TyPdPUWSzwFk9ahAeDEGh9as",
      "include_colab_link": true
    },
    "kernelspec": {
      "name": "python3",
      "display_name": "Python 3"
    },
    "language_info": {
      "name": "python"
    }
  },
  "cells": [
    {
      "cell_type": "markdown",
      "metadata": {
        "id": "view-in-github",
        "colab_type": "text"
      },
      "source": [
        "<a href=\"https://colab.research.google.com/github/Rushikesh419/Assignment/blob/main/lists.ipynb\" target=\"_parent\"><img src=\"https://colab.research.google.com/assets/colab-badge.svg\" alt=\"Open In Colab\"/></a>"
      ]
    },
    {
      "cell_type": "markdown",
      "source": [
        "Problem 1\n",
        "A list contains the average daily temperature(in degree Celsius) of a city over a particular week. Write a Python code to swap the highest and the lowest temperatures"
      ],
      "metadata": {
        "id": "iO88ZhiesVkw"
      }
    },
    {
      "cell_type": "code",
      "source": [
        "# A list containing average daily temperature over a week \n",
        "temperatures = [34, 40, 29, 33, 42, 37, 39 ]\n",
        "\n",
        "# The expected output \n",
        "# output_temperatures = [34, 40, 42, 33, 29, 37, 39]\n",
        "# Store the highest temperature\n",
        "max_temp = max(temperatures)\n",
        "\n",
        "# Index of the element with the highest temperature\n",
        "max_temp_index = temperatures.index(max_temp)\n",
        "# Store the lowest temperature \n",
        "min_temp = min(temperatures)\n",
        "\n",
        "# Index of the element with the lowest temperature\n",
        "min_temp_index = temperatures.index(min_temp)\n",
        "# Swap the highest and the lowest temperatures\n",
        "\n",
        "temperatures[max_temp_index]=min_temp   \n",
        "\n",
        "temperatures[min_temp_index]=max_temp   \n",
        "# Print the output list\n",
        "print(temperatures)"
      ],
      "metadata": {
        "colab": {
          "base_uri": "https://localhost:8080/"
        },
        "id": "mn5n0CkisXNE",
        "outputId": "a7bed2e6-0fcc-4848-ee89-5b3135db1418"
      },
      "execution_count": 1,
      "outputs": [
        {
          "output_type": "stream",
          "name": "stdout",
          "text": [
            "[34, 40, 42, 33, 29, 37, 39]\n"
          ]
        }
      ]
    },
    {
      "cell_type": "markdown",
      "source": [
        "Problem 2\n",
        "Measures of Averages\n",
        "Mean of a group is defined as the sum of the elements in the group divided by the number of elements in the group.\n",
        "Median is the middle number in a sorted, ascending or descending, list of numbers. If the list has N\n",
        " numbers where N\n",
        " is odd, then median is the element in the middle i.e, (N+1)/2\n",
        " \n",
        " element. If \n",
        " is even, then median is the mean of (N/2)\n",
        " \n",
        " and \n",
        " (N/2)+1\n",
        " elements"
      ],
      "metadata": {
        "id": "aUsvArcWsfxz"
      }
    },
    {
      "cell_type": "code",
      "source": [
        "# List of product prices\n",
        "\n",
        "prod_price_list = [400, 250, 800, 550, 600, 820, 720, 15000, 360,250]\n",
        "# Calculate the mean of the product prices. Use list functions. Also print the mean_price\n",
        "mean_price = sum(prod_price_list)/len(prod_price_list)\n",
        "mean_price"
      ],
      "metadata": {
        "colab": {
          "base_uri": "https://localhost:8080/"
        },
        "id": "-9k3K7ifszlc",
        "outputId": "d8b7ed5e-9692-47b8-8b19-c8ff660fcdd8"
      },
      "execution_count": 2,
      "outputs": [
        {
          "output_type": "execute_result",
          "data": {
            "text/plain": [
              "1975.0"
            ]
          },
          "metadata": {},
          "execution_count": 2
        }
      ]
    },
    {
      "cell_type": "code",
      "source": [
        "#sum of elements in list\n",
        "list1 = [400, 250, 800, 550, 600, 820, 720, 15000, 360,250]\n",
        "total = sum(list1)\n",
        "print(\"Sum of all elements in given list: \", total)"
      ],
      "metadata": {
        "colab": {
          "base_uri": "https://localhost:8080/"
        },
        "id": "sZoejT4Os3fz",
        "outputId": "33a54ed4-d676-4ff0-ff9c-2a54330921b3"
      },
      "execution_count": 3,
      "outputs": [
        {
          "output_type": "stream",
          "name": "stdout",
          "text": [
            "Sum of all elements in given list:  19750\n"
          ]
        }
      ]
    },
    {
      "cell_type": "code",
      "source": [
        "len(list1) # length of list"
      ],
      "metadata": {
        "colab": {
          "base_uri": "https://localhost:8080/"
        },
        "id": "fVP74owNs6O7",
        "outputId": "77ff4068-52ed-4bea-9030-6cce914b1a6f"
      },
      "execution_count": 4,
      "outputs": [
        {
          "output_type": "execute_result",
          "data": {
            "text/plain": [
              "10"
            ]
          },
          "metadata": {},
          "execution_count": 4
        }
      ]
    },
    {
      "cell_type": "code",
      "source": [
        "mean=total/len(list1)\n",
        "mean"
      ],
      "metadata": {
        "colab": {
          "base_uri": "https://localhost:8080/"
        },
        "id": "r4cgxLEBs9MV",
        "outputId": "220ae811-bb76-49da-9822-2435e908d14e"
      },
      "execution_count": 5,
      "outputs": [
        {
          "output_type": "execute_result",
          "data": {
            "text/plain": [
              "1975.0"
            ]
          },
          "metadata": {},
          "execution_count": 5
        }
      ]
    },
    {
      "cell_type": "code",
      "source": [
        "# Step 1 - Obtain the sorted list. Print the sorted_prices\n",
        "sorted_prices = sorted(prod_price_list)\n",
        "print(sorted_prices)"
      ],
      "metadata": {
        "colab": {
          "base_uri": "https://localhost:8080/"
        },
        "id": "aJUBVPIOs_7c",
        "outputId": "a428c976-d8f8-4c1a-9d01-858d5c791eaf"
      },
      "execution_count": 6,
      "outputs": [
        {
          "output_type": "stream",
          "name": "stdout",
          "text": [
            "[250, 250, 360, 400, 550, 600, 720, 800, 820, 15000]\n"
          ]
        }
      ]
    },
    {
      "cell_type": "code",
      "source": [
        "# Check if the number of elements in the list is even or odd\n",
        "if len(sorted_prices)%2==0:\n",
        "    print(\"Even\")\n",
        "else:\n",
        "   print(\"odd\")"
      ],
      "metadata": {
        "colab": {
          "base_uri": "https://localhost:8080/"
        },
        "id": "9nVMlhH0tC0b",
        "outputId": "66340c6c-44af-45d3-d423-77884c67a01a"
      },
      "execution_count": 7,
      "outputs": [
        {
          "output_type": "stream",
          "name": "stdout",
          "text": [
            "Even\n"
          ]
        }
      ]
    },
    {
      "cell_type": "code",
      "source": [
        "# Use the corresponding formula to calculate the median and print the median\n",
        "sorted_prices_list = [250, 250, 360, 400, 550, 600, 720, 800, 820, 15000]\n",
        "num=len(sorted_prices_list)/2\n",
        "num1=int(num)\n",
        "ele1=sorted_prices_list[num1]\n",
        "ele2=sorted_prices_list[num1-1]\n",
        "median=(ele1+ele2)/2\n",
        "median"
      ],
      "metadata": {
        "colab": {
          "base_uri": "https://localhost:8080/"
        },
        "id": "2bURtzUbtGfm",
        "outputId": "056569ac-37f3-4289-de30-e337911bc336"
      },
      "execution_count": 8,
      "outputs": [
        {
          "output_type": "execute_result",
          "data": {
            "text/plain": [
              "575.0"
            ]
          },
          "metadata": {},
          "execution_count": 8
        }
      ]
    },
    {
      "cell_type": "code",
      "source": [
        "from statistics import median\n",
        "# Use the corresponding formula to calculate the median and print the median\n",
        "length_list = len(sorted_prices)\n",
        "median_price = (sorted_prices[int(length_list/2)-1]+sorted_prices[int(length_list/2)])/2\n",
        "median_price"
      ],
      "metadata": {
        "colab": {
          "base_uri": "https://localhost:8080/"
        },
        "id": "tNhhMyWJtKiQ",
        "outputId": "f8b44672-c56c-4969-fbc2-ddcac04339b9"
      },
      "execution_count": 9,
      "outputs": [
        {
          "output_type": "execute_result",
          "data": {
            "text/plain": [
              "575.0"
            ]
          },
          "metadata": {},
          "execution_count": 9
        }
      ]
    },
    {
      "cell_type": "code",
      "source": [
        "# Check which is greater, mean or median\n",
        "mean_price > median_price"
      ],
      "metadata": {
        "colab": {
          "base_uri": "https://localhost:8080/"
        },
        "id": "Zs-kbVsntNUf",
        "outputId": "95e7e8b7-55ec-402a-b294-7c7f4ebf44cd"
      },
      "execution_count": 10,
      "outputs": [
        {
          "output_type": "execute_result",
          "data": {
            "text/plain": [
              "True"
            ]
          },
          "metadata": {},
          "execution_count": 10
        }
      ]
    },
    {
      "cell_type": "markdown",
      "source": [
        "Why do you think that is the case??\n",
        "Write your explanation in this text cell\n",
        "Your explanation :\n",
        "\n",
        "Mean:\n",
        "To obtain the mean of a set of numbers, you have to sum up all the numbers and then divide it using the total numbers. In short, it is taking out the average of all numbers.\n",
        "\n",
        "Median:\n",
        "When you arrange a given set of numbers from smaller to biggest, the middle number is said to be the median. Arrange any given series in either ascending or descending order or the middle value then is termed as the median.\n",
        "\n",
        "To find the median the data can be arranged in either descending order or ascending order.\n",
        "\n",
        "After arranging everything from smallest to biggest, take out the middle number, which is your median.\n",
        "\n",
        "When series have even numbers, median is the simple average of the middle pair of numbers.\n",
        "\n",
        "When data distribution is skewed, median is the best representative.\n",
        "\n",
        "when the distribution of data is skewed to the left, the mean is often less than the median. When the distribution is skewed to the right, the mean is often greater than the median.\n",
        "\n",
        "Mode:\n",
        "The most frequently occurred number in a given set of observations is called mode.\n",
        "\n",
        "The mode is derived when a number has frequency occurred in a series"
      ],
      "metadata": {
        "id": "PtYnL2-EtUJY"
      }
    },
    {
      "cell_type": "markdown",
      "source": [
        "Problem 3\n",
        "Having a nested list sometimes might be a bit problematic. An individual was asked to collect the names of companies in the technology sector. While creating the list, by mistake the last three companies were subsumed in a list as shown below. You are required to get rid of the nesting\n",
        "\n"
      ],
      "metadata": {
        "id": "4rPh1GqTtWAz"
      }
    },
    {
      "cell_type": "code",
      "source": [
        "# The list of tech companies curated by the individual\n",
        "tech_companies = ['Qualcomm','Google','Apple',['Nvidia','Cisco','Samsung']]\n",
        "\n",
        "# The final list that we want\n",
        "# correct_tech_companies = ['Qualcomm','Google','Apple','Nvidia','Cisco','Samsung']\n",
        "# Write your code below\n",
        "last_element = tech_companies[-1]\n",
        "companies = tech_companies[:3]+tech_companies[-1]\n",
        "companies\n"
      ],
      "metadata": {
        "colab": {
          "base_uri": "https://localhost:8080/"
        },
        "id": "fKnRO9KwtZjK",
        "outputId": "69ae69f9-7eaf-4349-a3a4-380c7ed4514e"
      },
      "execution_count": 11,
      "outputs": [
        {
          "output_type": "execute_result",
          "data": {
            "text/plain": [
              "['Qualcomm', 'Google', 'Apple', 'Nvidia', 'Cisco', 'Samsung']"
            ]
          },
          "metadata": {},
          "execution_count": 11
        }
      ]
    },
    {
      "cell_type": "code",
      "source": [
        "# Do the same task another way\n",
        "tech_companies.remove(last_element)\n",
        "\n",
        "tech_companies.extend(last_element)\n",
        "tech_companies"
      ],
      "metadata": {
        "id": "ZWxtcKMStgrx",
        "outputId": "b51a6fa6-8ae2-422a-f104-9ed3b076daf8",
        "colab": {
          "base_uri": "https://localhost:8080/"
        }
      },
      "execution_count": 12,
      "outputs": [
        {
          "output_type": "execute_result",
          "data": {
            "text/plain": [
              "['Qualcomm', 'Google', 'Apple', 'Nvidia', 'Cisco', 'Samsung']"
            ]
          },
          "metadata": {},
          "execution_count": 12
        }
      ]
    }
  ]
}