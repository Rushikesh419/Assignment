{
  "nbformat": 4,
  "nbformat_minor": 0,
  "metadata": {
    "colab": {
      "provenance": [],
      "authorship_tag": "ABX9TyNgBuzVWKB5HEmDISU6+Dy0",
      "include_colab_link": true
    },
    "kernelspec": {
      "name": "python3",
      "display_name": "Python 3"
    },
    "language_info": {
      "name": "python"
    }
  },
  "cells": [
    {
      "cell_type": "markdown",
      "metadata": {
        "id": "view-in-github",
        "colab_type": "text"
      },
      "source": [
        "<a href=\"https://colab.research.google.com/github/Rushikesh419/Assignment/blob/main/float%20and%20integer.ipynb\" target=\"_parent\"><img src=\"https://colab.research.google.com/assets/colab-badge.svg\" alt=\"Open In Colab\"/></a>"
      ]
    },
    {
      "cell_type": "markdown",
      "source": [
        "1) In a cricket tournament, based on the outcome of a particular match a team gets following points:\n",
        "wins gets 3 points\n",
        "draws gets 1 points\n",
        "losses gets 0 points\n",
        "Team Aravali plays 8 matches in this tournament. It wins 4 matches, loses 3 matches and draws 1. What is the total number of points gained by the Team Aravali?"
      ],
      "metadata": {
        "id": "L5zYROH0p_7M"
      }
    },
    {
      "cell_type": "code",
      "source": [
        "wins=4\n",
        "draws=1\n",
        "loses=3\n",
        "aravali_points=wins*3+draws*1+loses*0\n",
        "print(aravali_points)"
      ],
      "metadata": {
        "colab": {
          "base_uri": "https://localhost:8080/"
        },
        "id": "n4jaCilLqEk2",
        "outputId": "af0f680b-0d23-4af9-e464-a1a129304463"
      },
      "execution_count": null,
      "outputs": [
        {
          "output_type": "stream",
          "name": "stdout",
          "text": [
            "13\n"
          ]
        }
      ]
    },
    {
      "cell_type": "markdown",
      "source": [
        "2) Root of a function is defined as the value where Consider a quadratic function Find the value of the function at points ."
      ],
      "metadata": {
        "id": "yiUQIdiUqzJV"
      }
    },
    {
      "cell_type": "code",
      "source": [
        "x=int(input('enter the value: '))\n",
        "sol1=x^2+3*x-4\n",
        "sol1"
      ],
      "metadata": {
        "colab": {
          "base_uri": "https://localhost:8080/"
        },
        "id": "DFomKIB5rSX9",
        "outputId": "e3f12403-666a-49dc-ce02-a904608c1919"
      },
      "execution_count": null,
      "outputs": [
        {
          "name": "stdout",
          "output_type": "stream",
          "text": [
            "enter the value: 2\n"
          ]
        },
        {
          "output_type": "execute_result",
          "data": {
            "text/plain": [
              "6"
            ]
          },
          "metadata": {},
          "execution_count": 9
        }
      ]
    },
    {
      "cell_type": "code",
      "source": [
        "x=int(input('enter the value: '))\n",
        "sol2=x^2+3*x-4\n",
        "sol2"
      ],
      "metadata": {
        "colab": {
          "base_uri": "https://localhost:8080/"
        },
        "id": "ITHoXDoxrqcr",
        "outputId": "e137070e-ca78-4162-c3e2-421bbf6c184f"
      },
      "execution_count": null,
      "outputs": [
        {
          "name": "stdout",
          "output_type": "stream",
          "text": [
            "enter the value: -1\n"
          ]
        },
        {
          "output_type": "execute_result",
          "data": {
            "text/plain": [
              "4"
            ]
          },
          "metadata": {},
          "execution_count": 10
        }
      ]
    },
    {
      "cell_type": "code",
      "source": [
        "x=int(input('enter the value: '))\n",
        "sol3=x^2+3*x-4\n",
        "sol3"
      ],
      "metadata": {
        "colab": {
          "base_uri": "https://localhost:8080/"
        },
        "id": "7caLKK5WrwP-",
        "outputId": "2f7b8619-3528-451e-d0a6-7e5134fcc3c1"
      },
      "execution_count": null,
      "outputs": [
        {
          "name": "stdout",
          "output_type": "stream",
          "text": [
            "enter the value: 1\n"
          ]
        },
        {
          "output_type": "execute_result",
          "data": {
            "text/plain": [
              "0"
            ]
          },
          "metadata": {},
          "execution_count": 11
        }
      ]
    },
    {
      "cell_type": "code",
      "source": [
        "# Check whether 2 is a root of f(x)\n",
        "print(sol1==0)\n",
        "# Check whether -1 is a root of f(x)\n",
        "print(sol2==0)\n",
        "# Check whether 1 is a root of f(x)\n",
        "print(sol3==0)"
      ],
      "metadata": {
        "colab": {
          "base_uri": "https://localhost:8080/"
        },
        "id": "oUVrR8ohsRfD",
        "outputId": "de01c4a4-286d-4b23-adc9-7bc37909eba6"
      },
      "execution_count": null,
      "outputs": [
        {
          "output_type": "stream",
          "name": "stdout",
          "text": [
            "False\n",
            "False\n",
            "True\n"
          ]
        }
      ]
    },
    {
      "cell_type": "markdown",
      "source": [
        "3) A bag contains 45 apples, 65 oranges and 30 bananas. Find the percentage of each type of food items in the bag."
      ],
      "metadata": {
        "id": "kxE5mrUQspZw"
      }
    },
    {
      "cell_type": "code",
      "source": [
        "apple=45\n",
        "oranges=65\n",
        "banana=30\n",
        "total_items=apple+oranges+banana\n",
        "total_items\n",
        "# Calculate the percentage of apples \n",
        "percent_apple=(apple/total_items)*100\n",
        "f'percentage of apple is {percent_apple}'"
      ],
      "metadata": {
        "colab": {
          "base_uri": "https://localhost:8080/",
          "height": 35
        },
        "id": "4f_iftJCstV3",
        "outputId": "e0d239b6-6e4f-4ae3-dc40-1e590d7083d3"
      },
      "execution_count": null,
      "outputs": [
        {
          "output_type": "execute_result",
          "data": {
            "text/plain": [
              "'percentage of apple is 32.142857142857146'"
            ],
            "application/vnd.google.colaboratory.intrinsic+json": {
              "type": "string"
            }
          },
          "metadata": {},
          "execution_count": 17
        }
      ]
    },
    {
      "cell_type": "code",
      "source": [
        "# Calculate the percentage of oranges\n",
        "percent_oranges=(oranges/total_items)*100\n",
        "f'percentage of oranges is {percent_oranges}'"
      ],
      "metadata": {
        "colab": {
          "base_uri": "https://localhost:8080/",
          "height": 35
        },
        "id": "OcihqVrMuhW8",
        "outputId": "38939147-9340-4b33-b234-90a2d0fc6d85"
      },
      "execution_count": null,
      "outputs": [
        {
          "output_type": "execute_result",
          "data": {
            "text/plain": [
              "'percentage of oranges is 46.42857142857143'"
            ],
            "application/vnd.google.colaboratory.intrinsic+json": {
              "type": "string"
            }
          },
          "metadata": {},
          "execution_count": 19
        }
      ]
    },
    {
      "cell_type": "code",
      "source": [
        "# Calculate the percentage of bananas\n",
        "percent_banana=(banana/total_items)*100\n",
        "f'percentage of banana is {percent_banana}'"
      ],
      "metadata": {
        "colab": {
          "base_uri": "https://localhost:8080/",
          "height": 35
        },
        "id": "1210Kbcuus-0",
        "outputId": "a1249cb1-15ef-4f10-8acf-3a2783afc707"
      },
      "execution_count": null,
      "outputs": [
        {
          "output_type": "execute_result",
          "data": {
            "text/plain": [
              "'percentage of banana is 21.428571428571427'"
            ],
            "application/vnd.google.colaboratory.intrinsic+json": {
              "type": "string"
            }
          },
          "metadata": {},
          "execution_count": 20
        }
      ]
    },
    {
      "cell_type": "markdown",
      "source": [
        "4) You were playing a fun guessing game during your school break. There were a total of 100 participants excluding you. Out of these 100 people, 30 were Maths Majors, 45 were Economics Majors and 25 were Physics Majors.\n",
        "\n",
        "The game was divided into three rounds.\n",
        "\n",
        "In the first round, you had to guess the number of Maths Majors and you correctly guessed 20 of them.\n",
        "In the second round, you had to guess the number of Economics Majors and you correctly guessed 30 of them.\n",
        "In the final third round, you had to guess the number of Physics Majors and you correctly guessed 20 of them."
      ],
      "metadata": {
        "id": "wlGXQxsbuxzC"
      }
    },
    {
      "cell_type": "code",
      "source": [
        "math_major=30\n",
        "eco_major=45\n",
        "phy_major=25\n",
        "cor_math=20\n",
        "cor_eco=30\n",
        "cor_phy=20\n",
        "#math accuracy\n",
        "math_acc=(cor_math/math_major)*100\n",
        "print(math_acc)\n",
        "\n",
        "#eco accuracy\n",
        "eco_acc=(cor_eco/eco_major)*100\n",
        "print(eco_acc)\n",
        "\n",
        "#phy accuracy\n",
        "phy_acc=(cor_phy/phy_major)*100\n",
        "print(phy_acc)"
      ],
      "metadata": {
        "colab": {
          "base_uri": "https://localhost:8080/"
        },
        "id": "Txrl5YDmu9X5",
        "outputId": "c5f635d9-121b-4d73-eca5-809052d56a54"
      },
      "execution_count": null,
      "outputs": [
        {
          "output_type": "stream",
          "name": "stdout",
          "text": [
            "66.66666666666666\n",
            "66.66666666666666\n",
            "80.0\n"
          ]
        }
      ]
    },
    {
      "cell_type": "code",
      "source": [
        "total_acc=(math_acc+eco_acc+phy_acc)/3\n",
        "f'total accuracy is {total_acc}'"
      ],
      "metadata": {
        "colab": {
          "base_uri": "https://localhost:8080/",
          "height": 35
        },
        "id": "NnWc9BXavYDR",
        "outputId": "b2903701-5450-4283-f224-08d387582686"
      },
      "execution_count": null,
      "outputs": [
        {
          "output_type": "execute_result",
          "data": {
            "text/plain": [
              "'total accuracy is 71.1111111111111'"
            ],
            "application/vnd.google.colaboratory.intrinsic+json": {
              "type": "string"
            }
          },
          "metadata": {},
          "execution_count": 32
        }
      ]
    }
  ]
}